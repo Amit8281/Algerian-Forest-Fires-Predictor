{
 "cells": [
  {
   "cell_type": "markdown",
   "id": "f0e96bbf",
   "metadata": {},
   "source": [
    "# Algerian Forest Fires Dataset\n",
    "### Data Set Information:\n",
    "\n",
    "The dataset includes 244 instances that regroup a data of two regions of Algeria,namely the Bejaia region located in the northeast of Algeria and the Sidi Bel-abbes region located in the northwest of Algeria.\n",
    "\n",
    "122 instances for each region.\n",
    "\n",
    "The period from June 2012 to September 2012. The dataset includes 11 attribues and 1 output attribue (class) The 244 instances have been classified into fire(138 classes) and not fire (106 classes) classes.\n",
    "\n",
    "### Attribute Information:\n",
    "\n",
    "- Date : (DD/MM/YYYY) Day, month ('june' to 'september'), year (2012) Weather data observations\n",
    "- Temp : temperature noon (temperature max) in Celsius degrees: 22 to 42\n",
    "- RH : Relative Humidity in %: 21 to 90\n",
    "- Ws :Wind speed in km/h: 6 to 29\n",
    "- Rain: total day in mm: 0 to 16.8 FWI Components\n",
    "- Fine Fuel Moisture Code (FFMC) index from the FWI system: 28.6 to 92.5\n",
    "- Duff Moisture Code (DMC) index from the FWI system: 1.1 to 65.9\n",
    "- Drought Code (DC) index from the FWI system: 7 to 220.4\n",
    "- Initial Spread Index (ISI) index from the FWI system: 0 to 18.5\n",
    "- Buildup Index (BUI) index from the FWI system: 1.1 to 68\n",
    "- Fire Weather Index (FWI) Index: 0 to 31.1\n",
    "- Classes: two classes, namely Fire and not Fire"
   ]
  },
  {
   "cell_type": "code",
   "execution_count": 1,
   "id": "e8795d7f",
   "metadata": {},
   "outputs": [],
   "source": [
    "import pandas as pd\n",
    "import numpy as np\n",
    "import matplotlib.pyplot as plt\n",
    "import seaborn as sns\n",
    "%matplotlib inline"
   ]
  },
  {
   "cell_type": "code",
   "execution_count": 2,
   "id": "2b544eb6",
   "metadata": {},
   "outputs": [
    {
     "data": {
      "text/html": [
       "<div>\n",
       "<style scoped>\n",
       "    .dataframe tbody tr th:only-of-type {\n",
       "        vertical-align: middle;\n",
       "    }\n",
       "\n",
       "    .dataframe tbody tr th {\n",
       "        vertical-align: top;\n",
       "    }\n",
       "\n",
       "    .dataframe thead th {\n",
       "        text-align: right;\n",
       "    }\n",
       "</style>\n",
       "<table border=\"1\" class=\"dataframe\">\n",
       "  <thead>\n",
       "    <tr style=\"text-align: right;\">\n",
       "      <th></th>\n",
       "      <th>day</th>\n",
       "      <th>month</th>\n",
       "      <th>year</th>\n",
       "      <th>Temperature</th>\n",
       "      <th>RH</th>\n",
       "      <th>Ws</th>\n",
       "      <th>Rain</th>\n",
       "      <th>FFMC</th>\n",
       "      <th>DMC</th>\n",
       "      <th>DC</th>\n",
       "      <th>ISI</th>\n",
       "      <th>BUI</th>\n",
       "      <th>FWI</th>\n",
       "      <th>Classes</th>\n",
       "    </tr>\n",
       "  </thead>\n",
       "  <tbody>\n",
       "    <tr>\n",
       "      <th>0</th>\n",
       "      <td>01</td>\n",
       "      <td>06</td>\n",
       "      <td>2012</td>\n",
       "      <td>29</td>\n",
       "      <td>57</td>\n",
       "      <td>18</td>\n",
       "      <td>0</td>\n",
       "      <td>65.7</td>\n",
       "      <td>3.4</td>\n",
       "      <td>7.6</td>\n",
       "      <td>1.3</td>\n",
       "      <td>3.4</td>\n",
       "      <td>0.5</td>\n",
       "      <td>not fire</td>\n",
       "    </tr>\n",
       "    <tr>\n",
       "      <th>1</th>\n",
       "      <td>02</td>\n",
       "      <td>06</td>\n",
       "      <td>2012</td>\n",
       "      <td>29</td>\n",
       "      <td>61</td>\n",
       "      <td>13</td>\n",
       "      <td>1.3</td>\n",
       "      <td>64.4</td>\n",
       "      <td>4.1</td>\n",
       "      <td>7.6</td>\n",
       "      <td>1</td>\n",
       "      <td>3.9</td>\n",
       "      <td>0.4</td>\n",
       "      <td>not fire</td>\n",
       "    </tr>\n",
       "    <tr>\n",
       "      <th>2</th>\n",
       "      <td>03</td>\n",
       "      <td>06</td>\n",
       "      <td>2012</td>\n",
       "      <td>26</td>\n",
       "      <td>82</td>\n",
       "      <td>22</td>\n",
       "      <td>13.1</td>\n",
       "      <td>47.1</td>\n",
       "      <td>2.5</td>\n",
       "      <td>7.1</td>\n",
       "      <td>0.3</td>\n",
       "      <td>2.7</td>\n",
       "      <td>0.1</td>\n",
       "      <td>not fire</td>\n",
       "    </tr>\n",
       "    <tr>\n",
       "      <th>3</th>\n",
       "      <td>04</td>\n",
       "      <td>06</td>\n",
       "      <td>2012</td>\n",
       "      <td>25</td>\n",
       "      <td>89</td>\n",
       "      <td>13</td>\n",
       "      <td>2.5</td>\n",
       "      <td>28.6</td>\n",
       "      <td>1.3</td>\n",
       "      <td>6.9</td>\n",
       "      <td>0</td>\n",
       "      <td>1.7</td>\n",
       "      <td>0</td>\n",
       "      <td>not fire</td>\n",
       "    </tr>\n",
       "    <tr>\n",
       "      <th>4</th>\n",
       "      <td>05</td>\n",
       "      <td>06</td>\n",
       "      <td>2012</td>\n",
       "      <td>27</td>\n",
       "      <td>77</td>\n",
       "      <td>16</td>\n",
       "      <td>0</td>\n",
       "      <td>64.8</td>\n",
       "      <td>3</td>\n",
       "      <td>14.2</td>\n",
       "      <td>1.2</td>\n",
       "      <td>3.9</td>\n",
       "      <td>0.5</td>\n",
       "      <td>not fire</td>\n",
       "    </tr>\n",
       "  </tbody>\n",
       "</table>\n",
       "</div>"
      ],
      "text/plain": [
       "  day month  year Temperature  RH  Ws Rain   FFMC  DMC    DC  ISI  BUI  FWI  \\\n",
       "0  01    06  2012          29  57  18     0  65.7  3.4   7.6  1.3  3.4  0.5   \n",
       "1  02    06  2012          29  61  13   1.3  64.4  4.1   7.6    1  3.9  0.4   \n",
       "2  03    06  2012          26  82  22  13.1  47.1  2.5   7.1  0.3  2.7  0.1   \n",
       "3  04    06  2012          25  89  13   2.5  28.6  1.3   6.9    0  1.7    0   \n",
       "4  05    06  2012          27  77  16     0  64.8    3  14.2  1.2  3.9  0.5   \n",
       "\n",
       "     Classes    \n",
       "0  not fire     \n",
       "1  not fire     \n",
       "2  not fire     \n",
       "3  not fire     \n",
       "4  not fire     "
      ]
     },
     "execution_count": 2,
     "metadata": {},
     "output_type": "execute_result"
    }
   ],
   "source": [
    "df = pd.read_csv('Algerian_forest_fires_dataset_UPDATE.csv',header=1)\n",
    "df.head()"
   ]
  },
  {
   "cell_type": "markdown",
   "id": "96fb3d28",
   "metadata": {},
   "source": [
    "## Data Cleaning"
   ]
  },
  {
   "cell_type": "code",
   "execution_count": 3,
   "id": "cf027e8a",
   "metadata": {},
   "outputs": [
    {
     "name": "stdout",
     "output_type": "stream",
     "text": [
      "<class 'pandas.core.frame.DataFrame'>\n",
      "RangeIndex: 246 entries, 0 to 245\n",
      "Data columns (total 14 columns):\n",
      " #   Column       Non-Null Count  Dtype \n",
      "---  ------       --------------  ----- \n",
      " 0   day          246 non-null    object\n",
      " 1   month        245 non-null    object\n",
      " 2   year         245 non-null    object\n",
      " 3   Temperature  245 non-null    object\n",
      " 4    RH          245 non-null    object\n",
      " 5    Ws          245 non-null    object\n",
      " 6   Rain         245 non-null    object\n",
      " 7   FFMC         245 non-null    object\n",
      " 8   DMC          245 non-null    object\n",
      " 9   DC           245 non-null    object\n",
      " 10  ISI          245 non-null    object\n",
      " 11  BUI          245 non-null    object\n",
      " 12  FWI          245 non-null    object\n",
      " 13  Classes      244 non-null    object\n",
      "dtypes: object(14)\n",
      "memory usage: 27.0+ KB\n"
     ]
    }
   ],
   "source": [
    "df.info()"
   ]
  },
  {
   "cell_type": "code",
   "execution_count": 4,
   "id": "e3bf27b5",
   "metadata": {},
   "outputs": [
    {
     "data": {
      "text/plain": [
       "day            0\n",
       "month          1\n",
       "year           1\n",
       "Temperature    1\n",
       " RH            1\n",
       " Ws            1\n",
       "Rain           1\n",
       "FFMC           1\n",
       "DMC            1\n",
       "DC             1\n",
       "ISI            1\n",
       "BUI            1\n",
       "FWI            1\n",
       "Classes        2\n",
       "dtype: int64"
      ]
     },
     "execution_count": 4,
     "metadata": {},
     "output_type": "execute_result"
    }
   ],
   "source": [
    "df.isnull().sum()"
   ]
  },
  {
   "cell_type": "code",
   "execution_count": 5,
   "id": "9fc4c1fa",
   "metadata": {},
   "outputs": [
    {
     "data": {
      "text/html": [
       "<div>\n",
       "<style scoped>\n",
       "    .dataframe tbody tr th:only-of-type {\n",
       "        vertical-align: middle;\n",
       "    }\n",
       "\n",
       "    .dataframe tbody tr th {\n",
       "        vertical-align: top;\n",
       "    }\n",
       "\n",
       "    .dataframe thead th {\n",
       "        text-align: right;\n",
       "    }\n",
       "</style>\n",
       "<table border=\"1\" class=\"dataframe\">\n",
       "  <thead>\n",
       "    <tr style=\"text-align: right;\">\n",
       "      <th></th>\n",
       "      <th>day</th>\n",
       "      <th>month</th>\n",
       "      <th>year</th>\n",
       "      <th>Temperature</th>\n",
       "      <th>RH</th>\n",
       "      <th>Ws</th>\n",
       "      <th>Rain</th>\n",
       "      <th>FFMC</th>\n",
       "      <th>DMC</th>\n",
       "      <th>DC</th>\n",
       "      <th>ISI</th>\n",
       "      <th>BUI</th>\n",
       "      <th>FWI</th>\n",
       "      <th>Classes</th>\n",
       "    </tr>\n",
       "  </thead>\n",
       "  <tbody>\n",
       "    <tr>\n",
       "      <th>count</th>\n",
       "      <td>246</td>\n",
       "      <td>245</td>\n",
       "      <td>245</td>\n",
       "      <td>245</td>\n",
       "      <td>245</td>\n",
       "      <td>245</td>\n",
       "      <td>245</td>\n",
       "      <td>245</td>\n",
       "      <td>245</td>\n",
       "      <td>245</td>\n",
       "      <td>245</td>\n",
       "      <td>245</td>\n",
       "      <td>245</td>\n",
       "      <td>244</td>\n",
       "    </tr>\n",
       "    <tr>\n",
       "      <th>unique</th>\n",
       "      <td>33</td>\n",
       "      <td>5</td>\n",
       "      <td>2</td>\n",
       "      <td>20</td>\n",
       "      <td>63</td>\n",
       "      <td>19</td>\n",
       "      <td>40</td>\n",
       "      <td>174</td>\n",
       "      <td>167</td>\n",
       "      <td>199</td>\n",
       "      <td>107</td>\n",
       "      <td>175</td>\n",
       "      <td>128</td>\n",
       "      <td>9</td>\n",
       "    </tr>\n",
       "    <tr>\n",
       "      <th>top</th>\n",
       "      <td>01</td>\n",
       "      <td>07</td>\n",
       "      <td>2012</td>\n",
       "      <td>35</td>\n",
       "      <td>64</td>\n",
       "      <td>14</td>\n",
       "      <td>0</td>\n",
       "      <td>88.9</td>\n",
       "      <td>7.9</td>\n",
       "      <td>8</td>\n",
       "      <td>1.1</td>\n",
       "      <td>3</td>\n",
       "      <td>0.4</td>\n",
       "      <td>fire</td>\n",
       "    </tr>\n",
       "    <tr>\n",
       "      <th>freq</th>\n",
       "      <td>8</td>\n",
       "      <td>62</td>\n",
       "      <td>244</td>\n",
       "      <td>29</td>\n",
       "      <td>10</td>\n",
       "      <td>43</td>\n",
       "      <td>133</td>\n",
       "      <td>8</td>\n",
       "      <td>5</td>\n",
       "      <td>5</td>\n",
       "      <td>8</td>\n",
       "      <td>5</td>\n",
       "      <td>12</td>\n",
       "      <td>131</td>\n",
       "    </tr>\n",
       "  </tbody>\n",
       "</table>\n",
       "</div>"
      ],
      "text/plain": [
       "        day month  year Temperature   RH   Ws Rain   FFMC  DMC   DC  ISI  BUI  \\\n",
       "count   246   245   245         245  245  245   245   245  245  245  245  245   \n",
       "unique   33     5     2          20   63   19    40   174  167  199  107  175   \n",
       "top      01    07  2012          35   64   14     0  88.9  7.9    8  1.1    3   \n",
       "freq      8    62   244          29   10   43   133     8    5    5    8    5   \n",
       "\n",
       "        FWI Classes    \n",
       "count   245       244  \n",
       "unique  128         9  \n",
       "top     0.4   fire     \n",
       "freq     12       131  "
      ]
     },
     "execution_count": 5,
     "metadata": {},
     "output_type": "execute_result"
    }
   ],
   "source": [
    "df.describe()"
   ]
  },
  {
   "cell_type": "markdown",
   "id": "0cfc4b92",
   "metadata": {},
   "source": [
    "The dataset is converted into two sets based on Region from 122th index, we can make a new column based on the Region\n",
    "\n",
    "1 : \"Bejaia Region Dataset\" # value 0 would be for Bejaia Region\n",
    "\n",
    "2 : \"Sidi-Bel Abbes Region Dataset\" # value 0 would be for Sidi-Bel Abbes Region\n",
    "\n",
    "Add new column with region"
   ]
  },
  {
   "cell_type": "code",
   "execution_count": 6,
   "id": "18407f99",
   "metadata": {},
   "outputs": [],
   "source": [
    "# Great way to add a new column with Complete multiple columns of dataframe\n",
    "df.loc[:122,'Region'] = 0\n",
    "df.loc[122:,'Region'] = 1\n",
    "data= df"
   ]
  },
  {
   "cell_type": "code",
   "execution_count": 7,
   "id": "19b3d430",
   "metadata": {},
   "outputs": [
    {
     "data": {
      "text/html": [
       "<div>\n",
       "<style scoped>\n",
       "    .dataframe tbody tr th:only-of-type {\n",
       "        vertical-align: middle;\n",
       "    }\n",
       "\n",
       "    .dataframe tbody tr th {\n",
       "        vertical-align: top;\n",
       "    }\n",
       "\n",
       "    .dataframe thead th {\n",
       "        text-align: right;\n",
       "    }\n",
       "</style>\n",
       "<table border=\"1\" class=\"dataframe\">\n",
       "  <thead>\n",
       "    <tr style=\"text-align: right;\">\n",
       "      <th></th>\n",
       "      <th>day</th>\n",
       "      <th>month</th>\n",
       "      <th>year</th>\n",
       "      <th>Temperature</th>\n",
       "      <th>RH</th>\n",
       "      <th>Ws</th>\n",
       "      <th>Rain</th>\n",
       "      <th>FFMC</th>\n",
       "      <th>DMC</th>\n",
       "      <th>DC</th>\n",
       "      <th>ISI</th>\n",
       "      <th>BUI</th>\n",
       "      <th>FWI</th>\n",
       "      <th>Classes</th>\n",
       "      <th>Region</th>\n",
       "    </tr>\n",
       "  </thead>\n",
       "  <tbody>\n",
       "    <tr>\n",
       "      <th>34</th>\n",
       "      <td>05</td>\n",
       "      <td>07</td>\n",
       "      <td>2012</td>\n",
       "      <td>33</td>\n",
       "      <td>66</td>\n",
       "      <td>14</td>\n",
       "      <td>0</td>\n",
       "      <td>85.9</td>\n",
       "      <td>7.6</td>\n",
       "      <td>27.9</td>\n",
       "      <td>4.8</td>\n",
       "      <td>9.1</td>\n",
       "      <td>4.9</td>\n",
       "      <td>fire</td>\n",
       "      <td>0.0</td>\n",
       "    </tr>\n",
       "    <tr>\n",
       "      <th>182</th>\n",
       "      <td>29</td>\n",
       "      <td>07</td>\n",
       "      <td>2012</td>\n",
       "      <td>34</td>\n",
       "      <td>59</td>\n",
       "      <td>16</td>\n",
       "      <td>0</td>\n",
       "      <td>88.1</td>\n",
       "      <td>19.5</td>\n",
       "      <td>47.2</td>\n",
       "      <td>7.4</td>\n",
       "      <td>19.5</td>\n",
       "      <td>10.9</td>\n",
       "      <td>fire</td>\n",
       "      <td>1.0</td>\n",
       "    </tr>\n",
       "    <tr>\n",
       "      <th>33</th>\n",
       "      <td>04</td>\n",
       "      <td>07</td>\n",
       "      <td>2012</td>\n",
       "      <td>33</td>\n",
       "      <td>78</td>\n",
       "      <td>17</td>\n",
       "      <td>0</td>\n",
       "      <td>80.1</td>\n",
       "      <td>4.6</td>\n",
       "      <td>18.5</td>\n",
       "      <td>2.7</td>\n",
       "      <td>5.7</td>\n",
       "      <td>1.7</td>\n",
       "      <td>not fire</td>\n",
       "      <td>0.0</td>\n",
       "    </tr>\n",
       "    <tr>\n",
       "      <th>162</th>\n",
       "      <td>09</td>\n",
       "      <td>07</td>\n",
       "      <td>2012</td>\n",
       "      <td>36</td>\n",
       "      <td>43</td>\n",
       "      <td>15</td>\n",
       "      <td>1.9</td>\n",
       "      <td>82.3</td>\n",
       "      <td>9.4</td>\n",
       "      <td>9.9</td>\n",
       "      <td>3.2</td>\n",
       "      <td>9</td>\n",
       "      <td>3.1</td>\n",
       "      <td>fire</td>\n",
       "      <td>1.0</td>\n",
       "    </tr>\n",
       "    <tr>\n",
       "      <th>217</th>\n",
       "      <td>02</td>\n",
       "      <td>09</td>\n",
       "      <td>2012</td>\n",
       "      <td>28</td>\n",
       "      <td>67</td>\n",
       "      <td>19</td>\n",
       "      <td>0</td>\n",
       "      <td>75.4</td>\n",
       "      <td>2.9</td>\n",
       "      <td>16.3</td>\n",
       "      <td>2</td>\n",
       "      <td>4</td>\n",
       "      <td>0.8</td>\n",
       "      <td>not fire</td>\n",
       "      <td>1.0</td>\n",
       "    </tr>\n",
       "    <tr>\n",
       "      <th>138</th>\n",
       "      <td>15</td>\n",
       "      <td>06</td>\n",
       "      <td>2012</td>\n",
       "      <td>28</td>\n",
       "      <td>90</td>\n",
       "      <td>15</td>\n",
       "      <td>0</td>\n",
       "      <td>66.8</td>\n",
       "      <td>7.2</td>\n",
       "      <td>14.7</td>\n",
       "      <td>1.2</td>\n",
       "      <td>7.1</td>\n",
       "      <td>0.6</td>\n",
       "      <td>not fire</td>\n",
       "      <td>1.0</td>\n",
       "    </tr>\n",
       "    <tr>\n",
       "      <th>190</th>\n",
       "      <td>06</td>\n",
       "      <td>08</td>\n",
       "      <td>2012</td>\n",
       "      <td>30</td>\n",
       "      <td>54</td>\n",
       "      <td>14</td>\n",
       "      <td>3.1</td>\n",
       "      <td>70.5</td>\n",
       "      <td>11</td>\n",
       "      <td>9.1</td>\n",
       "      <td>1.3</td>\n",
       "      <td>10.5</td>\n",
       "      <td>0.8</td>\n",
       "      <td>not fire</td>\n",
       "      <td>1.0</td>\n",
       "    </tr>\n",
       "    <tr>\n",
       "      <th>140</th>\n",
       "      <td>17</td>\n",
       "      <td>06</td>\n",
       "      <td>2012</td>\n",
       "      <td>31</td>\n",
       "      <td>69</td>\n",
       "      <td>17</td>\n",
       "      <td>4.7</td>\n",
       "      <td>62.2</td>\n",
       "      <td>3.9</td>\n",
       "      <td>8</td>\n",
       "      <td>1.1</td>\n",
       "      <td>3.8</td>\n",
       "      <td>0.4</td>\n",
       "      <td>not fire</td>\n",
       "      <td>1.0</td>\n",
       "    </tr>\n",
       "    <tr>\n",
       "      <th>12</th>\n",
       "      <td>13</td>\n",
       "      <td>06</td>\n",
       "      <td>2012</td>\n",
       "      <td>27</td>\n",
       "      <td>84</td>\n",
       "      <td>21</td>\n",
       "      <td>1.2</td>\n",
       "      <td>50</td>\n",
       "      <td>6.7</td>\n",
       "      <td>17</td>\n",
       "      <td>0.5</td>\n",
       "      <td>6.7</td>\n",
       "      <td>0.2</td>\n",
       "      <td>not fire</td>\n",
       "      <td>0.0</td>\n",
       "    </tr>\n",
       "    <tr>\n",
       "      <th>122</th>\n",
       "      <td>Sidi-Bel Abbes Region Dataset</td>\n",
       "      <td>NaN</td>\n",
       "      <td>NaN</td>\n",
       "      <td>NaN</td>\n",
       "      <td>NaN</td>\n",
       "      <td>NaN</td>\n",
       "      <td>NaN</td>\n",
       "      <td>NaN</td>\n",
       "      <td>NaN</td>\n",
       "      <td>NaN</td>\n",
       "      <td>NaN</td>\n",
       "      <td>NaN</td>\n",
       "      <td>NaN</td>\n",
       "      <td>NaN</td>\n",
       "      <td>1.0</td>\n",
       "    </tr>\n",
       "  </tbody>\n",
       "</table>\n",
       "</div>"
      ],
      "text/plain": [
       "                               day month  year Temperature   RH   Ws Rain   \\\n",
       "34                              05    07  2012          33   66   14     0   \n",
       "182                             29    07  2012          34   59   16     0   \n",
       "33                              04    07  2012          33   78   17     0   \n",
       "162                             09    07  2012          36   43   15   1.9   \n",
       "217                             02    09  2012          28   67   19     0   \n",
       "138                             15    06  2012          28   90   15     0   \n",
       "190                             06    08  2012          30   54   14   3.1   \n",
       "140                             17    06  2012          31   69   17   4.7   \n",
       "12                              13    06  2012          27   84   21   1.2   \n",
       "122  Sidi-Bel Abbes Region Dataset   NaN   NaN         NaN  NaN  NaN   NaN   \n",
       "\n",
       "     FFMC   DMC    DC  ISI   BUI   FWI    Classes    Region  \n",
       "34   85.9   7.6  27.9  4.8   9.1   4.9      fire        0.0  \n",
       "182  88.1  19.5  47.2  7.4  19.5  10.9      fire        1.0  \n",
       "33   80.1   4.6  18.5  2.7   5.7   1.7  not fire        0.0  \n",
       "162  82.3   9.4   9.9  3.2     9   3.1      fire        1.0  \n",
       "217  75.4   2.9  16.3    2     4   0.8  not fire        1.0  \n",
       "138  66.8   7.2  14.7  1.2   7.1   0.6  not fire        1.0  \n",
       "190  70.5    11   9.1  1.3  10.5   0.8  not fire        1.0  \n",
       "140  62.2   3.9     8  1.1   3.8   0.4  not fire        1.0  \n",
       "12     50   6.7    17  0.5   6.7   0.2  not fire        0.0  \n",
       "122   NaN   NaN   NaN  NaN   NaN   NaN          NaN     1.0  "
      ]
     },
     "execution_count": 7,
     "metadata": {},
     "output_type": "execute_result"
    }
   ],
   "source": [
    "data.sample(10)"
   ]
  },
  {
   "cell_type": "code",
   "execution_count": 8,
   "id": "96afac31",
   "metadata": {},
   "outputs": [
    {
     "data": {
      "text/plain": [
       "day            0\n",
       "month          1\n",
       "year           1\n",
       "Temperature    1\n",
       " RH            1\n",
       " Ws            1\n",
       "Rain           1\n",
       "FFMC           1\n",
       "DMC            1\n",
       "DC             1\n",
       "ISI            1\n",
       "BUI            1\n",
       "FWI            1\n",
       "Classes        2\n",
       "Region         0\n",
       "dtype: int64"
      ]
     },
     "execution_count": 8,
     "metadata": {},
     "output_type": "execute_result"
    }
   ],
   "source": [
    "data.isnull().sum()"
   ]
  },
  {
   "cell_type": "code",
   "execution_count": 9,
   "id": "47775b53",
   "metadata": {},
   "outputs": [],
   "source": [
    "data = data.dropna().reset_index(drop=True)"
   ]
  },
  {
   "cell_type": "code",
   "execution_count": 10,
   "id": "32e8f0f2",
   "metadata": {},
   "outputs": [
    {
     "data": {
      "text/plain": [
       "day            0\n",
       "month          0\n",
       "year           0\n",
       "Temperature    0\n",
       " RH            0\n",
       " Ws            0\n",
       "Rain           0\n",
       "FFMC           0\n",
       "DMC            0\n",
       "DC             0\n",
       "ISI            0\n",
       "BUI            0\n",
       "FWI            0\n",
       "Classes        0\n",
       "Region         0\n",
       "dtype: int64"
      ]
     },
     "execution_count": 10,
     "metadata": {},
     "output_type": "execute_result"
    }
   ],
   "source": [
    "data.isnull().sum()"
   ]
  },
  {
   "cell_type": "code",
   "execution_count": 11,
   "id": "ebbd0849",
   "metadata": {},
   "outputs": [
    {
     "data": {
      "text/html": [
       "<div>\n",
       "<style scoped>\n",
       "    .dataframe tbody tr th:only-of-type {\n",
       "        vertical-align: middle;\n",
       "    }\n",
       "\n",
       "    .dataframe tbody tr th {\n",
       "        vertical-align: top;\n",
       "    }\n",
       "\n",
       "    .dataframe thead th {\n",
       "        text-align: right;\n",
       "    }\n",
       "</style>\n",
       "<table border=\"1\" class=\"dataframe\">\n",
       "  <thead>\n",
       "    <tr style=\"text-align: right;\">\n",
       "      <th></th>\n",
       "      <th>day</th>\n",
       "      <th>month</th>\n",
       "      <th>year</th>\n",
       "      <th>Temperature</th>\n",
       "      <th>RH</th>\n",
       "      <th>Ws</th>\n",
       "      <th>Rain</th>\n",
       "      <th>FFMC</th>\n",
       "      <th>DMC</th>\n",
       "      <th>DC</th>\n",
       "      <th>ISI</th>\n",
       "      <th>BUI</th>\n",
       "      <th>FWI</th>\n",
       "      <th>Classes</th>\n",
       "      <th>Region</th>\n",
       "    </tr>\n",
       "  </thead>\n",
       "  <tbody>\n",
       "    <tr>\n",
       "      <th>122</th>\n",
       "      <td>day</td>\n",
       "      <td>month</td>\n",
       "      <td>year</td>\n",
       "      <td>Temperature</td>\n",
       "      <td>RH</td>\n",
       "      <td>Ws</td>\n",
       "      <td>Rain</td>\n",
       "      <td>FFMC</td>\n",
       "      <td>DMC</td>\n",
       "      <td>DC</td>\n",
       "      <td>ISI</td>\n",
       "      <td>BUI</td>\n",
       "      <td>FWI</td>\n",
       "      <td>Classes</td>\n",
       "      <td>1.0</td>\n",
       "    </tr>\n",
       "  </tbody>\n",
       "</table>\n",
       "</div>"
      ],
      "text/plain": [
       "     day  month  year  Temperature   RH   Ws  Rain   FFMC  DMC  DC  ISI  BUI  \\\n",
       "122  day  month  year  Temperature   RH   Ws  Rain   FFMC  DMC  DC  ISI  BUI   \n",
       "\n",
       "     FWI  Classes    Region  \n",
       "122  FWI  Classes       1.0  "
      ]
     },
     "execution_count": 11,
     "metadata": {},
     "output_type": "execute_result"
    }
   ],
   "source": [
    "data.iloc[[122]]"
   ]
  },
  {
   "cell_type": "code",
   "execution_count": 12,
   "id": "fedfe9d0",
   "metadata": {},
   "outputs": [],
   "source": [
    "data= data.drop(122).reset_index(drop=True) # Here have used reset_index(drop=True) because the drop parameter avoid the old index being added as a column:"
   ]
  },
  {
   "cell_type": "code",
   "execution_count": 13,
   "id": "24e19f99",
   "metadata": {},
   "outputs": [
    {
     "data": {
      "text/html": [
       "<div>\n",
       "<style scoped>\n",
       "    .dataframe tbody tr th:only-of-type {\n",
       "        vertical-align: middle;\n",
       "    }\n",
       "\n",
       "    .dataframe tbody tr th {\n",
       "        vertical-align: top;\n",
       "    }\n",
       "\n",
       "    .dataframe thead th {\n",
       "        text-align: right;\n",
       "    }\n",
       "</style>\n",
       "<table border=\"1\" class=\"dataframe\">\n",
       "  <thead>\n",
       "    <tr style=\"text-align: right;\">\n",
       "      <th></th>\n",
       "      <th>day</th>\n",
       "      <th>month</th>\n",
       "      <th>year</th>\n",
       "      <th>Temperature</th>\n",
       "      <th>RH</th>\n",
       "      <th>Ws</th>\n",
       "      <th>Rain</th>\n",
       "      <th>FFMC</th>\n",
       "      <th>DMC</th>\n",
       "      <th>DC</th>\n",
       "      <th>ISI</th>\n",
       "      <th>BUI</th>\n",
       "      <th>FWI</th>\n",
       "      <th>Classes</th>\n",
       "      <th>Region</th>\n",
       "    </tr>\n",
       "  </thead>\n",
       "  <tbody>\n",
       "    <tr>\n",
       "      <th>122</th>\n",
       "      <td>01</td>\n",
       "      <td>06</td>\n",
       "      <td>2012</td>\n",
       "      <td>32</td>\n",
       "      <td>71</td>\n",
       "      <td>12</td>\n",
       "      <td>0.7</td>\n",
       "      <td>57.1</td>\n",
       "      <td>2.5</td>\n",
       "      <td>8.2</td>\n",
       "      <td>0.6</td>\n",
       "      <td>2.8</td>\n",
       "      <td>0.2</td>\n",
       "      <td>not fire</td>\n",
       "      <td>1.0</td>\n",
       "    </tr>\n",
       "  </tbody>\n",
       "</table>\n",
       "</div>"
      ],
      "text/plain": [
       "    day month  year Temperature  RH  Ws Rain   FFMC  DMC   DC  ISI  BUI  FWI  \\\n",
       "122  01    06  2012          32  71  12   0.7  57.1  2.5  8.2  0.6  2.8  0.2   \n",
       "\n",
       "       Classes    Region  \n",
       "122  not fire        1.0  "
      ]
     },
     "execution_count": 13,
     "metadata": {},
     "output_type": "execute_result"
    }
   ],
   "source": [
    "data.iloc[[122]]"
   ]
  },
  {
   "cell_type": "code",
   "execution_count": 14,
   "id": "f259b2c2",
   "metadata": {},
   "outputs": [
    {
     "data": {
      "text/plain": [
       "Index(['day', 'month', 'year', 'Temperature', ' RH', ' Ws', 'Rain ', 'FFMC',\n",
       "       'DMC', 'DC', 'ISI', 'BUI', 'FWI', 'Classes  ', 'Region'],\n",
       "      dtype='object')"
      ]
     },
     "execution_count": 14,
     "metadata": {},
     "output_type": "execute_result"
    }
   ],
   "source": [
    "df.columns# here we have vain spaces in column names"
   ]
  },
  {
   "cell_type": "code",
   "execution_count": 15,
   "id": "abd0dd5d",
   "metadata": {},
   "outputs": [
    {
     "data": {
      "text/plain": [
       "Index(['day', 'month', 'year', 'Temperature', 'RH', 'Ws', 'Rain', 'FFMC',\n",
       "       'DMC', 'DC', 'ISI', 'BUI', 'FWI', 'Classes', 'Region'],\n",
       "      dtype='object')"
      ]
     },
     "execution_count": 15,
     "metadata": {},
     "output_type": "execute_result"
    }
   ],
   "source": [
    "# to fix spaces in columns names\n",
    "data.columns = data.columns.str.strip() # this removes blank spaces from word's \n",
    "data.columns"
   ]
  },
  {
   "cell_type": "markdown",
   "id": "431be9c8",
   "metadata": {},
   "source": [
    "### Cheacking columns type"
   ]
  },
  {
   "cell_type": "code",
   "execution_count": 16,
   "id": "dcc3f279",
   "metadata": {},
   "outputs": [
    {
     "name": "stdout",
     "output_type": "stream",
     "text": [
      "<class 'pandas.core.frame.DataFrame'>\n",
      "RangeIndex: 243 entries, 0 to 242\n",
      "Data columns (total 15 columns):\n",
      " #   Column       Non-Null Count  Dtype  \n",
      "---  ------       --------------  -----  \n",
      " 0   day          243 non-null    object \n",
      " 1   month        243 non-null    object \n",
      " 2   year         243 non-null    object \n",
      " 3   Temperature  243 non-null    object \n",
      " 4   RH           243 non-null    object \n",
      " 5   Ws           243 non-null    object \n",
      " 6   Rain         243 non-null    object \n",
      " 7   FFMC         243 non-null    object \n",
      " 8   DMC          243 non-null    object \n",
      " 9   DC           243 non-null    object \n",
      " 10  ISI          243 non-null    object \n",
      " 11  BUI          243 non-null    object \n",
      " 12  FWI          243 non-null    object \n",
      " 13  Classes      243 non-null    object \n",
      " 14  Region       243 non-null    float64\n",
      "dtypes: float64(1), object(14)\n",
      "memory usage: 28.6+ KB\n"
     ]
    }
   ],
   "source": [
    "data.info()"
   ]
  },
  {
   "cell_type": "code",
   "execution_count": 17,
   "id": "b0b49191",
   "metadata": {},
   "outputs": [],
   "source": [
    "data[['Region','day', 'month', 'year', 'Temperature', 'RH', 'Ws']] = data[['Region','day', 'month', 'year', 'Temperature', 'RH', 'Ws']].astype('int64')"
   ]
  },
  {
   "cell_type": "code",
   "execution_count": 18,
   "id": "fb5dfd3a",
   "metadata": {},
   "outputs": [],
   "source": [
    "data[['Rain', 'FFMC', 'DMC', 'DC', 'ISI', 'BUI', 'FWI']] = data[['Rain', 'FFMC', 'DMC', 'DC', 'ISI', 'BUI', 'FWI']].astype('float64')"
   ]
  },
  {
   "cell_type": "code",
   "execution_count": 19,
   "id": "169f2162",
   "metadata": {},
   "outputs": [
    {
     "name": "stdout",
     "output_type": "stream",
     "text": [
      "<class 'pandas.core.frame.DataFrame'>\n",
      "RangeIndex: 243 entries, 0 to 242\n",
      "Data columns (total 15 columns):\n",
      " #   Column       Non-Null Count  Dtype  \n",
      "---  ------       --------------  -----  \n",
      " 0   day          243 non-null    int64  \n",
      " 1   month        243 non-null    int64  \n",
      " 2   year         243 non-null    int64  \n",
      " 3   Temperature  243 non-null    int64  \n",
      " 4   RH           243 non-null    int64  \n",
      " 5   Ws           243 non-null    int64  \n",
      " 6   Rain         243 non-null    float64\n",
      " 7   FFMC         243 non-null    float64\n",
      " 8   DMC          243 non-null    float64\n",
      " 9   DC           243 non-null    float64\n",
      " 10  ISI          243 non-null    float64\n",
      " 11  BUI          243 non-null    float64\n",
      " 12  FWI          243 non-null    float64\n",
      " 13  Classes      243 non-null    object \n",
      " 14  Region       243 non-null    int64  \n",
      "dtypes: float64(7), int64(7), object(1)\n",
      "memory usage: 28.6+ KB\n"
     ]
    }
   ],
   "source": [
    "data.info()"
   ]
  },
  {
   "cell_type": "code",
   "execution_count": 20,
   "id": "4d0b8830",
   "metadata": {},
   "outputs": [
    {
     "data": {
      "text/html": [
       "<div>\n",
       "<style scoped>\n",
       "    .dataframe tbody tr th:only-of-type {\n",
       "        vertical-align: middle;\n",
       "    }\n",
       "\n",
       "    .dataframe tbody tr th {\n",
       "        vertical-align: top;\n",
       "    }\n",
       "\n",
       "    .dataframe thead th {\n",
       "        text-align: right;\n",
       "    }\n",
       "</style>\n",
       "<table border=\"1\" class=\"dataframe\">\n",
       "  <thead>\n",
       "    <tr style=\"text-align: right;\">\n",
       "      <th></th>\n",
       "      <th>day</th>\n",
       "      <th>month</th>\n",
       "      <th>year</th>\n",
       "      <th>Temperature</th>\n",
       "      <th>RH</th>\n",
       "      <th>Ws</th>\n",
       "      <th>Rain</th>\n",
       "      <th>FFMC</th>\n",
       "      <th>DMC</th>\n",
       "      <th>DC</th>\n",
       "      <th>ISI</th>\n",
       "      <th>BUI</th>\n",
       "      <th>FWI</th>\n",
       "      <th>Region</th>\n",
       "    </tr>\n",
       "  </thead>\n",
       "  <tbody>\n",
       "    <tr>\n",
       "      <th>count</th>\n",
       "      <td>243.000000</td>\n",
       "      <td>243.000000</td>\n",
       "      <td>243.0</td>\n",
       "      <td>243.000000</td>\n",
       "      <td>243.000000</td>\n",
       "      <td>243.000000</td>\n",
       "      <td>243.000000</td>\n",
       "      <td>243.000000</td>\n",
       "      <td>243.000000</td>\n",
       "      <td>243.000000</td>\n",
       "      <td>243.000000</td>\n",
       "      <td>243.000000</td>\n",
       "      <td>243.000000</td>\n",
       "      <td>243.000000</td>\n",
       "    </tr>\n",
       "    <tr>\n",
       "      <th>mean</th>\n",
       "      <td>15.761317</td>\n",
       "      <td>7.502058</td>\n",
       "      <td>2012.0</td>\n",
       "      <td>32.152263</td>\n",
       "      <td>62.041152</td>\n",
       "      <td>15.493827</td>\n",
       "      <td>0.762963</td>\n",
       "      <td>77.842387</td>\n",
       "      <td>14.680658</td>\n",
       "      <td>49.430864</td>\n",
       "      <td>4.742387</td>\n",
       "      <td>16.690535</td>\n",
       "      <td>7.035391</td>\n",
       "      <td>0.497942</td>\n",
       "    </tr>\n",
       "    <tr>\n",
       "      <th>std</th>\n",
       "      <td>8.842552</td>\n",
       "      <td>1.114793</td>\n",
       "      <td>0.0</td>\n",
       "      <td>3.628039</td>\n",
       "      <td>14.828160</td>\n",
       "      <td>2.811385</td>\n",
       "      <td>2.003207</td>\n",
       "      <td>14.349641</td>\n",
       "      <td>12.393040</td>\n",
       "      <td>47.665606</td>\n",
       "      <td>4.154234</td>\n",
       "      <td>14.228421</td>\n",
       "      <td>7.440568</td>\n",
       "      <td>0.501028</td>\n",
       "    </tr>\n",
       "    <tr>\n",
       "      <th>min</th>\n",
       "      <td>1.000000</td>\n",
       "      <td>6.000000</td>\n",
       "      <td>2012.0</td>\n",
       "      <td>22.000000</td>\n",
       "      <td>21.000000</td>\n",
       "      <td>6.000000</td>\n",
       "      <td>0.000000</td>\n",
       "      <td>28.600000</td>\n",
       "      <td>0.700000</td>\n",
       "      <td>6.900000</td>\n",
       "      <td>0.000000</td>\n",
       "      <td>1.100000</td>\n",
       "      <td>0.000000</td>\n",
       "      <td>0.000000</td>\n",
       "    </tr>\n",
       "    <tr>\n",
       "      <th>25%</th>\n",
       "      <td>8.000000</td>\n",
       "      <td>7.000000</td>\n",
       "      <td>2012.0</td>\n",
       "      <td>30.000000</td>\n",
       "      <td>52.500000</td>\n",
       "      <td>14.000000</td>\n",
       "      <td>0.000000</td>\n",
       "      <td>71.850000</td>\n",
       "      <td>5.800000</td>\n",
       "      <td>12.350000</td>\n",
       "      <td>1.400000</td>\n",
       "      <td>6.000000</td>\n",
       "      <td>0.700000</td>\n",
       "      <td>0.000000</td>\n",
       "    </tr>\n",
       "    <tr>\n",
       "      <th>50%</th>\n",
       "      <td>16.000000</td>\n",
       "      <td>8.000000</td>\n",
       "      <td>2012.0</td>\n",
       "      <td>32.000000</td>\n",
       "      <td>63.000000</td>\n",
       "      <td>15.000000</td>\n",
       "      <td>0.000000</td>\n",
       "      <td>83.300000</td>\n",
       "      <td>11.300000</td>\n",
       "      <td>33.100000</td>\n",
       "      <td>3.500000</td>\n",
       "      <td>12.400000</td>\n",
       "      <td>4.200000</td>\n",
       "      <td>0.000000</td>\n",
       "    </tr>\n",
       "    <tr>\n",
       "      <th>75%</th>\n",
       "      <td>23.000000</td>\n",
       "      <td>8.000000</td>\n",
       "      <td>2012.0</td>\n",
       "      <td>35.000000</td>\n",
       "      <td>73.500000</td>\n",
       "      <td>17.000000</td>\n",
       "      <td>0.500000</td>\n",
       "      <td>88.300000</td>\n",
       "      <td>20.800000</td>\n",
       "      <td>69.100000</td>\n",
       "      <td>7.250000</td>\n",
       "      <td>22.650000</td>\n",
       "      <td>11.450000</td>\n",
       "      <td>1.000000</td>\n",
       "    </tr>\n",
       "    <tr>\n",
       "      <th>max</th>\n",
       "      <td>31.000000</td>\n",
       "      <td>9.000000</td>\n",
       "      <td>2012.0</td>\n",
       "      <td>42.000000</td>\n",
       "      <td>90.000000</td>\n",
       "      <td>29.000000</td>\n",
       "      <td>16.800000</td>\n",
       "      <td>96.000000</td>\n",
       "      <td>65.900000</td>\n",
       "      <td>220.400000</td>\n",
       "      <td>19.000000</td>\n",
       "      <td>68.000000</td>\n",
       "      <td>31.100000</td>\n",
       "      <td>1.000000</td>\n",
       "    </tr>\n",
       "  </tbody>\n",
       "</table>\n",
       "</div>"
      ],
      "text/plain": [
       "              day       month    year  Temperature          RH          Ws  \\\n",
       "count  243.000000  243.000000   243.0   243.000000  243.000000  243.000000   \n",
       "mean    15.761317    7.502058  2012.0    32.152263   62.041152   15.493827   \n",
       "std      8.842552    1.114793     0.0     3.628039   14.828160    2.811385   \n",
       "min      1.000000    6.000000  2012.0    22.000000   21.000000    6.000000   \n",
       "25%      8.000000    7.000000  2012.0    30.000000   52.500000   14.000000   \n",
       "50%     16.000000    8.000000  2012.0    32.000000   63.000000   15.000000   \n",
       "75%     23.000000    8.000000  2012.0    35.000000   73.500000   17.000000   \n",
       "max     31.000000    9.000000  2012.0    42.000000   90.000000   29.000000   \n",
       "\n",
       "             Rain        FFMC         DMC          DC         ISI         BUI  \\\n",
       "count  243.000000  243.000000  243.000000  243.000000  243.000000  243.000000   \n",
       "mean     0.762963   77.842387   14.680658   49.430864    4.742387   16.690535   \n",
       "std      2.003207   14.349641   12.393040   47.665606    4.154234   14.228421   \n",
       "min      0.000000   28.600000    0.700000    6.900000    0.000000    1.100000   \n",
       "25%      0.000000   71.850000    5.800000   12.350000    1.400000    6.000000   \n",
       "50%      0.000000   83.300000   11.300000   33.100000    3.500000   12.400000   \n",
       "75%      0.500000   88.300000   20.800000   69.100000    7.250000   22.650000   \n",
       "max     16.800000   96.000000   65.900000  220.400000   19.000000   68.000000   \n",
       "\n",
       "              FWI      Region  \n",
       "count  243.000000  243.000000  \n",
       "mean     7.035391    0.497942  \n",
       "std      7.440568    0.501028  \n",
       "min      0.000000    0.000000  \n",
       "25%      0.700000    0.000000  \n",
       "50%      4.200000    0.000000  \n",
       "75%     11.450000    1.000000  \n",
       "max     31.100000    1.000000  "
      ]
     },
     "execution_count": 20,
     "metadata": {},
     "output_type": "execute_result"
    }
   ],
   "source": [
    "data.describe()"
   ]
  },
  {
   "cell_type": "code",
   "execution_count": 21,
   "id": "086d9617",
   "metadata": {},
   "outputs": [
    {
     "data": {
      "text/plain": [
       "day            0\n",
       "month          0\n",
       "year           0\n",
       "Temperature    0\n",
       "RH             0\n",
       "Ws             0\n",
       "Rain           0\n",
       "FFMC           0\n",
       "DMC            0\n",
       "DC             0\n",
       "ISI            0\n",
       "BUI            0\n",
       "FWI            0\n",
       "Classes        0\n",
       "Region         0\n",
       "dtype: int64"
      ]
     },
     "execution_count": 21,
     "metadata": {},
     "output_type": "execute_result"
    }
   ],
   "source": [
    "data.isnull().sum()"
   ]
  },
  {
   "cell_type": "code",
   "execution_count": 22,
   "id": "ce89c77e",
   "metadata": {},
   "outputs": [],
   "source": [
    "# now I will make a copy of my data cleaned data\n",
    "data.to_csv('Algerian_forest_fires_cleaned_data.csv')"
   ]
  },
  {
   "cell_type": "markdown",
   "id": "7e696860",
   "metadata": {},
   "source": [
    "## EDA"
   ]
  },
  {
   "cell_type": "code",
   "execution_count": 23,
   "id": "5a9c0264",
   "metadata": {},
   "outputs": [
    {
     "data": {
      "text/html": [
       "<div>\n",
       "<style scoped>\n",
       "    .dataframe tbody tr th:only-of-type {\n",
       "        vertical-align: middle;\n",
       "    }\n",
       "\n",
       "    .dataframe tbody tr th {\n",
       "        vertical-align: top;\n",
       "    }\n",
       "\n",
       "    .dataframe thead th {\n",
       "        text-align: right;\n",
       "    }\n",
       "</style>\n",
       "<table border=\"1\" class=\"dataframe\">\n",
       "  <thead>\n",
       "    <tr style=\"text-align: right;\">\n",
       "      <th></th>\n",
       "      <th>day</th>\n",
       "      <th>month</th>\n",
       "      <th>year</th>\n",
       "      <th>Temperature</th>\n",
       "      <th>RH</th>\n",
       "      <th>Ws</th>\n",
       "      <th>Rain</th>\n",
       "      <th>FFMC</th>\n",
       "      <th>DMC</th>\n",
       "      <th>DC</th>\n",
       "      <th>ISI</th>\n",
       "      <th>BUI</th>\n",
       "      <th>FWI</th>\n",
       "      <th>Classes</th>\n",
       "      <th>Region</th>\n",
       "    </tr>\n",
       "  </thead>\n",
       "  <tbody>\n",
       "    <tr>\n",
       "      <th>0</th>\n",
       "      <td>1</td>\n",
       "      <td>6</td>\n",
       "      <td>2012</td>\n",
       "      <td>29</td>\n",
       "      <td>57</td>\n",
       "      <td>18</td>\n",
       "      <td>0.0</td>\n",
       "      <td>65.7</td>\n",
       "      <td>3.4</td>\n",
       "      <td>7.6</td>\n",
       "      <td>1.3</td>\n",
       "      <td>3.4</td>\n",
       "      <td>0.5</td>\n",
       "      <td>not fire</td>\n",
       "      <td>0</td>\n",
       "    </tr>\n",
       "    <tr>\n",
       "      <th>1</th>\n",
       "      <td>2</td>\n",
       "      <td>6</td>\n",
       "      <td>2012</td>\n",
       "      <td>29</td>\n",
       "      <td>61</td>\n",
       "      <td>13</td>\n",
       "      <td>1.3</td>\n",
       "      <td>64.4</td>\n",
       "      <td>4.1</td>\n",
       "      <td>7.6</td>\n",
       "      <td>1.0</td>\n",
       "      <td>3.9</td>\n",
       "      <td>0.4</td>\n",
       "      <td>not fire</td>\n",
       "      <td>0</td>\n",
       "    </tr>\n",
       "    <tr>\n",
       "      <th>2</th>\n",
       "      <td>3</td>\n",
       "      <td>6</td>\n",
       "      <td>2012</td>\n",
       "      <td>26</td>\n",
       "      <td>82</td>\n",
       "      <td>22</td>\n",
       "      <td>13.1</td>\n",
       "      <td>47.1</td>\n",
       "      <td>2.5</td>\n",
       "      <td>7.1</td>\n",
       "      <td>0.3</td>\n",
       "      <td>2.7</td>\n",
       "      <td>0.1</td>\n",
       "      <td>not fire</td>\n",
       "      <td>0</td>\n",
       "    </tr>\n",
       "    <tr>\n",
       "      <th>3</th>\n",
       "      <td>4</td>\n",
       "      <td>6</td>\n",
       "      <td>2012</td>\n",
       "      <td>25</td>\n",
       "      <td>89</td>\n",
       "      <td>13</td>\n",
       "      <td>2.5</td>\n",
       "      <td>28.6</td>\n",
       "      <td>1.3</td>\n",
       "      <td>6.9</td>\n",
       "      <td>0.0</td>\n",
       "      <td>1.7</td>\n",
       "      <td>0.0</td>\n",
       "      <td>not fire</td>\n",
       "      <td>0</td>\n",
       "    </tr>\n",
       "    <tr>\n",
       "      <th>4</th>\n",
       "      <td>5</td>\n",
       "      <td>6</td>\n",
       "      <td>2012</td>\n",
       "      <td>27</td>\n",
       "      <td>77</td>\n",
       "      <td>16</td>\n",
       "      <td>0.0</td>\n",
       "      <td>64.8</td>\n",
       "      <td>3.0</td>\n",
       "      <td>14.2</td>\n",
       "      <td>1.2</td>\n",
       "      <td>3.9</td>\n",
       "      <td>0.5</td>\n",
       "      <td>not fire</td>\n",
       "      <td>0</td>\n",
       "    </tr>\n",
       "    <tr>\n",
       "      <th>...</th>\n",
       "      <td>...</td>\n",
       "      <td>...</td>\n",
       "      <td>...</td>\n",
       "      <td>...</td>\n",
       "      <td>...</td>\n",
       "      <td>...</td>\n",
       "      <td>...</td>\n",
       "      <td>...</td>\n",
       "      <td>...</td>\n",
       "      <td>...</td>\n",
       "      <td>...</td>\n",
       "      <td>...</td>\n",
       "      <td>...</td>\n",
       "      <td>...</td>\n",
       "      <td>...</td>\n",
       "    </tr>\n",
       "    <tr>\n",
       "      <th>238</th>\n",
       "      <td>26</td>\n",
       "      <td>9</td>\n",
       "      <td>2012</td>\n",
       "      <td>30</td>\n",
       "      <td>65</td>\n",
       "      <td>14</td>\n",
       "      <td>0.0</td>\n",
       "      <td>85.4</td>\n",
       "      <td>16.0</td>\n",
       "      <td>44.5</td>\n",
       "      <td>4.5</td>\n",
       "      <td>16.9</td>\n",
       "      <td>6.5</td>\n",
       "      <td>fire</td>\n",
       "      <td>1</td>\n",
       "    </tr>\n",
       "    <tr>\n",
       "      <th>239</th>\n",
       "      <td>27</td>\n",
       "      <td>9</td>\n",
       "      <td>2012</td>\n",
       "      <td>28</td>\n",
       "      <td>87</td>\n",
       "      <td>15</td>\n",
       "      <td>4.4</td>\n",
       "      <td>41.1</td>\n",
       "      <td>6.5</td>\n",
       "      <td>8.0</td>\n",
       "      <td>0.1</td>\n",
       "      <td>6.2</td>\n",
       "      <td>0.0</td>\n",
       "      <td>not fire</td>\n",
       "      <td>1</td>\n",
       "    </tr>\n",
       "    <tr>\n",
       "      <th>240</th>\n",
       "      <td>28</td>\n",
       "      <td>9</td>\n",
       "      <td>2012</td>\n",
       "      <td>27</td>\n",
       "      <td>87</td>\n",
       "      <td>29</td>\n",
       "      <td>0.5</td>\n",
       "      <td>45.9</td>\n",
       "      <td>3.5</td>\n",
       "      <td>7.9</td>\n",
       "      <td>0.4</td>\n",
       "      <td>3.4</td>\n",
       "      <td>0.2</td>\n",
       "      <td>not fire</td>\n",
       "      <td>1</td>\n",
       "    </tr>\n",
       "    <tr>\n",
       "      <th>241</th>\n",
       "      <td>29</td>\n",
       "      <td>9</td>\n",
       "      <td>2012</td>\n",
       "      <td>24</td>\n",
       "      <td>54</td>\n",
       "      <td>18</td>\n",
       "      <td>0.1</td>\n",
       "      <td>79.7</td>\n",
       "      <td>4.3</td>\n",
       "      <td>15.2</td>\n",
       "      <td>1.7</td>\n",
       "      <td>5.1</td>\n",
       "      <td>0.7</td>\n",
       "      <td>not fire</td>\n",
       "      <td>1</td>\n",
       "    </tr>\n",
       "    <tr>\n",
       "      <th>242</th>\n",
       "      <td>30</td>\n",
       "      <td>9</td>\n",
       "      <td>2012</td>\n",
       "      <td>24</td>\n",
       "      <td>64</td>\n",
       "      <td>15</td>\n",
       "      <td>0.2</td>\n",
       "      <td>67.3</td>\n",
       "      <td>3.8</td>\n",
       "      <td>16.5</td>\n",
       "      <td>1.2</td>\n",
       "      <td>4.8</td>\n",
       "      <td>0.5</td>\n",
       "      <td>not fire</td>\n",
       "      <td>1</td>\n",
       "    </tr>\n",
       "  </tbody>\n",
       "</table>\n",
       "<p>243 rows × 15 columns</p>\n",
       "</div>"
      ],
      "text/plain": [
       "     day  month  year  Temperature  RH  Ws  Rain  FFMC   DMC    DC  ISI   BUI  \\\n",
       "0      1      6  2012           29  57  18   0.0  65.7   3.4   7.6  1.3   3.4   \n",
       "1      2      6  2012           29  61  13   1.3  64.4   4.1   7.6  1.0   3.9   \n",
       "2      3      6  2012           26  82  22  13.1  47.1   2.5   7.1  0.3   2.7   \n",
       "3      4      6  2012           25  89  13   2.5  28.6   1.3   6.9  0.0   1.7   \n",
       "4      5      6  2012           27  77  16   0.0  64.8   3.0  14.2  1.2   3.9   \n",
       "..   ...    ...   ...          ...  ..  ..   ...   ...   ...   ...  ...   ...   \n",
       "238   26      9  2012           30  65  14   0.0  85.4  16.0  44.5  4.5  16.9   \n",
       "239   27      9  2012           28  87  15   4.4  41.1   6.5   8.0  0.1   6.2   \n",
       "240   28      9  2012           27  87  29   0.5  45.9   3.5   7.9  0.4   3.4   \n",
       "241   29      9  2012           24  54  18   0.1  79.7   4.3  15.2  1.7   5.1   \n",
       "242   30      9  2012           24  64  15   0.2  67.3   3.8  16.5  1.2   4.8   \n",
       "\n",
       "     FWI       Classes  Region  \n",
       "0    0.5   not fire          0  \n",
       "1    0.4   not fire          0  \n",
       "2    0.1   not fire          0  \n",
       "3    0.0   not fire          0  \n",
       "4    0.5   not fire          0  \n",
       "..   ...           ...     ...  \n",
       "238  6.5       fire          1  \n",
       "239  0.0   not fire          1  \n",
       "240  0.2   not fire          1  \n",
       "241  0.7   not fire          1  \n",
       "242  0.5  not fire           1  \n",
       "\n",
       "[243 rows x 15 columns]"
      ]
     },
     "execution_count": 23,
     "metadata": {},
     "output_type": "execute_result"
    }
   ],
   "source": [
    "data"
   ]
  },
  {
   "cell_type": "code",
   "execution_count": 24,
   "id": "425f2494",
   "metadata": {},
   "outputs": [],
   "source": [
    "# day,month and year features are not that much important so droping these features\n",
    "data=data.drop(['day','month','year'],axis=1)"
   ]
  },
  {
   "cell_type": "code",
   "execution_count": 25,
   "id": "b78149a6",
   "metadata": {},
   "outputs": [
    {
     "data": {
      "text/plain": [
       "fire             131\n",
       "not fire         101\n",
       "fire               4\n",
       "fire               2\n",
       "not fire           2\n",
       "not fire           1\n",
       "not fire           1\n",
       "not fire           1\n",
       "Name: Classes, dtype: int64"
      ]
     },
     "execution_count": 25,
     "metadata": {},
     "output_type": "execute_result"
    }
   ],
   "source": [
    "data['Classes'].value_counts()"
   ]
  },
  {
   "cell_type": "markdown",
   "id": "7b778649",
   "metadata": {},
   "source": [
    "the major categories are only 2 but because of some errors like - blank space this is showing this much categories"
   ]
  },
  {
   "cell_type": "code",
   "execution_count": 26,
   "id": "50d1b8a2",
   "metadata": {},
   "outputs": [],
   "source": [
    "# encoding Classes feature\n",
    "data['Classes'] = np.where(data['Classes'].str.contains('not fire'), # this is condition\n",
    "                         0,# if not fire my value will be 0\n",
    "                         1 # if fire my value will be 1\n",
    "                         )"
   ]
  },
  {
   "cell_type": "code",
   "execution_count": 27,
   "id": "de553c95",
   "metadata": {},
   "outputs": [
    {
     "data": {
      "text/plain": [
       "1    137\n",
       "0    106\n",
       "Name: Classes, dtype: int64"
      ]
     },
     "execution_count": 27,
     "metadata": {},
     "output_type": "execute_result"
    }
   ],
   "source": [
    "data['Classes'].value_counts()"
   ]
  },
  {
   "cell_type": "code",
   "execution_count": 28,
   "id": "1b3ab394",
   "metadata": {},
   "outputs": [
    {
     "name": "stdout",
     "output_type": "stream",
     "text": [
      "['Solarize_Light2', '_classic_test_patch', '_mpl-gallery', '_mpl-gallery-nogrid', 'bmh', 'classic', 'dark_background', 'fast', 'fivethirtyeight', 'ggplot', 'grayscale', 'seaborn', 'seaborn-bright', 'seaborn-colorblind', 'seaborn-dark', 'seaborn-dark-palette', 'seaborn-darkgrid', 'seaborn-deep', 'seaborn-muted', 'seaborn-notebook', 'seaborn-paper', 'seaborn-pastel', 'seaborn-poster', 'seaborn-talk', 'seaborn-ticks', 'seaborn-white', 'seaborn-whitegrid', 'tableau-colorblind10']\n"
     ]
    },
    {
     "data": {
      "text/plain": [
       "False"
      ]
     },
     "execution_count": 28,
     "metadata": {},
     "output_type": "execute_result"
    }
   ],
   "source": [
    "print(plt.style.available) == 'ggplot'"
   ]
  },
  {
   "cell_type": "code",
   "execution_count": 29,
   "id": "068fb9d6",
   "metadata": {},
   "outputs": [
    {
     "data": {
      "text/plain": [
       "array([[<AxesSubplot:title={'center':'Temperature'}>,\n",
       "        <AxesSubplot:title={'center':'RH'}>,\n",
       "        <AxesSubplot:title={'center':'Ws'}>],\n",
       "       [<AxesSubplot:title={'center':'Rain'}>,\n",
       "        <AxesSubplot:title={'center':'FFMC'}>,\n",
       "        <AxesSubplot:title={'center':'DMC'}>],\n",
       "       [<AxesSubplot:title={'center':'DC'}>,\n",
       "        <AxesSubplot:title={'center':'ISI'}>,\n",
       "        <AxesSubplot:title={'center':'BUI'}>],\n",
       "       [<AxesSubplot:title={'center':'FWI'}>,\n",
       "        <AxesSubplot:title={'center':'Classes'}>,\n",
       "        <AxesSubplot:title={'center':'Region'}>]], dtype=object)"
      ]
     },
     "execution_count": 29,
     "metadata": {},
     "output_type": "execute_result"
    },
    {
     "data": {
      "image/png": "[encoded data removed]",
      "text/plain": [
       "<Figure size 1080x720 with 12 Axes>"
      ]
     },
     "metadata": {
      "needs_background": "light"
     },
     "output_type": "display_data"
    }
   ],
   "source": [
    "import matplotlib.pyplot as plt\n",
    "import numpy as np\n",
    "\n",
    "\n",
    "data.hist(figsize=(15,10))"
   ]
  },
  {
   "cell_type": "code",
   "execution_count": 30,
   "id": "a3e12af9",
   "metadata": {},
   "outputs": [
    {
     "data": {
      "text/plain": [
       "<AxesSubplot:>"
      ]
     },
     "execution_count": 30,
     "metadata": {},
     "output_type": "execute_result"
    },
    {
     "data": {
      "image/png": "[encoded data removed]",
      "text/plain": [
       "<Figure size 1080x432 with 2 Axes>"
      ]
     },
     "metadata": {
      "needs_background": "light"
     },
     "output_type": "display_data"
    }
   ],
   "source": [
    "plt.figure(figsize=(15,6))\n",
    "sns.heatmap(data.corr(),annot=True)"
   ]
  },
  {
   "cell_type": "code",
   "execution_count": 31,
   "id": "c7f20a89",
   "metadata": {},
   "outputs": [
    {
     "data": {
      "text/plain": [
       "1    56.378601\n",
       "0    43.621399\n",
       "Name: Classes, dtype: float64"
      ]
     },
     "execution_count": 31,
     "metadata": {},
     "output_type": "execute_result"
    }
   ],
   "source": [
    "# percentage for pie chart\n",
    "percentage = data['Classes'].value_counts(normalize=True # this shows proportion of data\n",
    "                                        ) *100\n",
    "percentage"
   ]
  },
  {
   "cell_type": "code",
   "execution_count": 32,
   "id": "6e409dcd",
   "metadata": {},
   "outputs": [
    {
     "data": {
      "text/plain": [
       "Text(0.5, 1.0, 'Classes pie chart')"
      ]
     },
     "execution_count": 32,
     "metadata": {},
     "output_type": "execute_result"
    },
    {
     "data": {
      "image/png": "[encoded data removed]",
      "text/plain": [
       "<Figure size 432x288 with 1 Axes>"
      ]
     },
     "metadata": {},
     "output_type": "display_data"
    }
   ],
   "source": [
    "plt.pie(percentage,labels=['fire 1','not fire 0'],autopct='%1.1f%%',radius=2)\n",
    "plt.title('Classes pie chart')"
   ]
  },
  {
   "cell_type": "code",
   "execution_count": 33,
   "id": "3e9cb41a",
   "metadata": {},
   "outputs": [
    {
     "data": {
      "text/html": [
       "<div>\n",
       "<style scoped>\n",
       "    .dataframe tbody tr th:only-of-type {\n",
       "        vertical-align: middle;\n",
       "    }\n",
       "\n",
       "    .dataframe tbody tr th {\n",
       "        vertical-align: top;\n",
       "    }\n",
       "\n",
       "    .dataframe thead th {\n",
       "        text-align: right;\n",
       "    }\n",
       "</style>\n",
       "<table border=\"1\" class=\"dataframe\">\n",
       "  <thead>\n",
       "    <tr style=\"text-align: right;\">\n",
       "      <th></th>\n",
       "      <th>Unnamed: 0</th>\n",
       "      <th>day</th>\n",
       "      <th>month</th>\n",
       "      <th>year</th>\n",
       "      <th>Temperature</th>\n",
       "      <th>RH</th>\n",
       "      <th>Ws</th>\n",
       "      <th>Rain</th>\n",
       "      <th>FFMC</th>\n",
       "      <th>DMC</th>\n",
       "      <th>DC</th>\n",
       "      <th>ISI</th>\n",
       "      <th>BUI</th>\n",
       "      <th>FWI</th>\n",
       "      <th>Classes</th>\n",
       "      <th>Region</th>\n",
       "    </tr>\n",
       "  </thead>\n",
       "  <tbody>\n",
       "    <tr>\n",
       "      <th>0</th>\n",
       "      <td>0</td>\n",
       "      <td>1</td>\n",
       "      <td>6</td>\n",
       "      <td>2012</td>\n",
       "      <td>29</td>\n",
       "      <td>57</td>\n",
       "      <td>18</td>\n",
       "      <td>0.0</td>\n",
       "      <td>65.7</td>\n",
       "      <td>3.4</td>\n",
       "      <td>7.6</td>\n",
       "      <td>1.3</td>\n",
       "      <td>3.4</td>\n",
       "      <td>0.5</td>\n",
       "      <td>not fire</td>\n",
       "      <td>0</td>\n",
       "    </tr>\n",
       "    <tr>\n",
       "      <th>1</th>\n",
       "      <td>1</td>\n",
       "      <td>2</td>\n",
       "      <td>6</td>\n",
       "      <td>2012</td>\n",
       "      <td>29</td>\n",
       "      <td>61</td>\n",
       "      <td>13</td>\n",
       "      <td>1.3</td>\n",
       "      <td>64.4</td>\n",
       "      <td>4.1</td>\n",
       "      <td>7.6</td>\n",
       "      <td>1.0</td>\n",
       "      <td>3.9</td>\n",
       "      <td>0.4</td>\n",
       "      <td>not fire</td>\n",
       "      <td>0</td>\n",
       "    </tr>\n",
       "    <tr>\n",
       "      <th>2</th>\n",
       "      <td>2</td>\n",
       "      <td>3</td>\n",
       "      <td>6</td>\n",
       "      <td>2012</td>\n",
       "      <td>26</td>\n",
       "      <td>82</td>\n",
       "      <td>22</td>\n",
       "      <td>13.1</td>\n",
       "      <td>47.1</td>\n",
       "      <td>2.5</td>\n",
       "      <td>7.1</td>\n",
       "      <td>0.3</td>\n",
       "      <td>2.7</td>\n",
       "      <td>0.1</td>\n",
       "      <td>not fire</td>\n",
       "      <td>0</td>\n",
       "    </tr>\n",
       "    <tr>\n",
       "      <th>3</th>\n",
       "      <td>3</td>\n",
       "      <td>4</td>\n",
       "      <td>6</td>\n",
       "      <td>2012</td>\n",
       "      <td>25</td>\n",
       "      <td>89</td>\n",
       "      <td>13</td>\n",
       "      <td>2.5</td>\n",
       "      <td>28.6</td>\n",
       "      <td>1.3</td>\n",
       "      <td>6.9</td>\n",
       "      <td>0.0</td>\n",
       "      <td>1.7</td>\n",
       "      <td>0.0</td>\n",
       "      <td>not fire</td>\n",
       "      <td>0</td>\n",
       "    </tr>\n",
       "    <tr>\n",
       "      <th>4</th>\n",
       "      <td>4</td>\n",
       "      <td>5</td>\n",
       "      <td>6</td>\n",
       "      <td>2012</td>\n",
       "      <td>27</td>\n",
       "      <td>77</td>\n",
       "      <td>16</td>\n",
       "      <td>0.0</td>\n",
       "      <td>64.8</td>\n",
       "      <td>3.0</td>\n",
       "      <td>14.2</td>\n",
       "      <td>1.2</td>\n",
       "      <td>3.9</td>\n",
       "      <td>0.5</td>\n",
       "      <td>not fire</td>\n",
       "      <td>0</td>\n",
       "    </tr>\n",
       "  </tbody>\n",
       "</table>\n",
       "</div>"
      ],
      "text/plain": [
       "   Unnamed: 0  day  month  year  Temperature  RH  Ws  Rain  FFMC  DMC    DC  \\\n",
       "0           0    1      6  2012           29  57  18   0.0  65.7  3.4   7.6   \n",
       "1           1    2      6  2012           29  61  13   1.3  64.4  4.1   7.6   \n",
       "2           2    3      6  2012           26  82  22  13.1  47.1  2.5   7.1   \n",
       "3           3    4      6  2012           25  89  13   2.5  28.6  1.3   6.9   \n",
       "4           4    5      6  2012           27  77  16   0.0  64.8  3.0  14.2   \n",
       "\n",
       "   ISI  BUI  FWI      Classes  Region  \n",
       "0  1.3  3.4  0.5  not fire          0  \n",
       "1  1.0  3.9  0.4  not fire          0  \n",
       "2  0.3  2.7  0.1  not fire          0  \n",
       "3  0.0  1.7  0.0  not fire          0  \n",
       "4  1.2  3.9  0.5  not fire          0  "
      ]
     },
     "execution_count": 33,
     "metadata": {},
     "output_type": "execute_result"
    }
   ],
   "source": [
    "dfs = pd.read_csv('Algerian_forest_fires_cleaned_data.csv')\n",
    "dfs.head()"
   ]
  },
  {
   "cell_type": "code",
   "execution_count": 34,
   "id": "1efe6440",
   "metadata": {},
   "outputs": [
    {
     "data": {
      "text/plain": [
       "Text(0.5, 1.0, 'Fire Analysis of Sidi- Bel Regions')"
      ]
     },
     "execution_count": 34,
     "metadata": {},
     "output_type": "execute_result"
    },
    {
     "data": {
      "image/png": "[encoded data removed]",
      "text/plain": [
       "<Figure size 936x432 with 1 Axes>"
      ]
     },
     "metadata": {
      "needs_background": "light"
     },
     "output_type": "display_data"
    }
   ],
   "source": [
    "## Monthly Fire Analysis\n",
    "dftemp=dfs.loc[dfs['Region']==1]\n",
    "plt.subplots(figsize=(13,6))\n",
    "sns.set_style('whitegrid')\n",
    "sns.countplot(x=dfs['month'],hue='Classes',data=data)\n",
    "plt.ylabel('Number of Fires',weight='bold')\n",
    "plt.xlabel('Months',weight='bold')\n",
    "plt.title(\"Fire Analysis of Sidi- Bel Regions\",weight='bold')\n",
    "\n",
    "# 0 = not fire , 1 = fire"
   ]
  },
  {
   "cell_type": "code",
   "execution_count": 35,
   "id": "cde1ad03",
   "metadata": {},
   "outputs": [
    {
     "data": {
      "image/png": "[encoded data removed]",
      "text/plain": [
       "<Figure size 360x360 with 1 Axes>"
      ]
     },
     "metadata": {},
     "output_type": "display_data"
    },
    {
     "data": {
      "image/png": "[encoded data removed]",
      "text/plain": [
       "<Figure size 360x360 with 1 Axes>"
      ]
     },
     "metadata": {},
     "output_type": "display_data"
    },
    {
     "data": {
      "image/png": "[encoded data removed]",
      "text/plain": [
       "<Figure size 360x360 with 1 Axes>"
      ]
     },
     "metadata": {},
     "output_type": "display_data"
    },
    {
     "data": {
      "image/png": "[encoded data removed]",
      "text/plain": [
       "<Figure size 360x360 with 1 Axes>"
      ]
     },
     "metadata": {},
     "output_type": "display_data"
    },
    {
     "data": {
      "image/png": "[encoded data removed]",
      "text/plain": [
       "<Figure size 360x360 with 1 Axes>"
      ]
     },
     "metadata": {},
     "output_type": "display_data"
    },
    {
     "data": {
      "image/png": "[encoded data removed]",
      "text/plain": [
       "<Figure size 360x360 with 1 Axes>"
      ]
     },
     "metadata": {},
     "output_type": "display_data"
    },
    {
     "data": {
      "image/png": "[encoded data removed]",
      "text/plain": [
       "<Figure size 360x360 with 1 Axes>"
      ]
     },
     "metadata": {},
     "output_type": "display_data"
    },
    {
     "data": {
      "image/png": "[encoded data removed]",
      "text/plain": [
       "<Figure size 360x360 with 1 Axes>"
      ]
     },
     "metadata": {},
     "output_type": "display_data"
    },
    {
     "data": {
      "image/png": "[encoded data removed]",
      "text/plain": [
       "<Figure size 360x360 with 1 Axes>"
      ]
     },
     "metadata": {},
     "output_type": "display_data"
    },
    {
     "data": {
      "image/png": "[encoded data removed]",
      "text/plain": [
       "<Figure size 360x360 with 1 Axes>"
      ]
     },
     "metadata": {},
     "output_type": "display_data"
    },
    {
     "data": {
      "image/png": "[encoded data removed]",
      "text/plain": [
       "<Figure size 360x360 with 1 Axes>"
      ]
     },
     "metadata": {},
     "output_type": "display_data"
    },
    {
     "data": {
      "image/png": "[encoded data removed]",
      "text/plain": [
       "<Figure size 360x360 with 1 Axes>"
      ]
     },
     "metadata": {},
     "output_type": "display_data"
    }
   ],
   "source": [
    "for column in data.columns:\n",
    "    sns.displot(data, x=column, kde=True,row_order=(3,4))\n",
    "    plt.title(f'Distribution of {column}')\n",
    "    plt.xlabel(column)\n",
    "    plt.ylabel('Frequency')\n",
    "    plt.show()"
   ]
  },
  {
   "cell_type": "markdown",
   "id": "50971df8",
   "metadata": {},
   "source": [
    "## Training model with cleand dataset"
   ]
  },
  {
   "cell_type": "markdown",
   "id": "c6aec3b6",
   "metadata": {},
   "source": [
    "### Import Necessary Libraries"
   ]
  },
  {
   "cell_type": "code",
   "execution_count": 36,
   "id": "0177a015",
   "metadata": {},
   "outputs": [],
   "source": [
    "import pandas as pd\n",
    "import numpy as np\n",
    "import matplotlib.pyplot as plt\n",
    "import seaborn as sns\n",
    "%matplotlib inline\n",
    "from sklearn.model_selection import train_test_split # for train_test_split\n",
    "from sklearn.preprocessing import StandardScaler # for standardization\n",
    "from sklearn.linear_model import LinearRegression # for Linear Regression Model\n",
    "from sklearn.metrics import mean_squared_error,mean_absolute_error # for finding errors\n",
    "from sklearn.metrics import r2_score # for Checking Accuracy \n",
    "from sklearn.linear_model import Lasso # for Lasso Regression Model\n",
    "from sklearn.linear_model import Ridge # for Ridge Regression Model\n",
    "from sklearn.neighbors import KNeighborsRegressor # for KNN model\n",
    "from sklearn.tree import DecisionTreeRegressor # For decision Tree Regressor Model\n",
    "from sklearn.ensemble import RandomForestRegressor, GradientBoostingRegressor, AdaBoostRegressor, ExtraTreesClassifier,ExtraTreesRegressor \n",
    "from sklearn.svm import SVR\n",
    "from xgboost import XGBRegressor\n",
    "import pickle # for pickling"
   ]
  },
  {
   "cell_type": "code",
   "execution_count": 37,
   "id": "e0a1fd28",
   "metadata": {},
   "outputs": [
    {
     "data": {
      "text/html": [
       "<div>\n",
       "<style scoped>\n",
       "    .dataframe tbody tr th:only-of-type {\n",
       "        vertical-align: middle;\n",
       "    }\n",
       "\n",
       "    .dataframe tbody tr th {\n",
       "        vertical-align: top;\n",
       "    }\n",
       "\n",
       "    .dataframe thead th {\n",
       "        text-align: right;\n",
       "    }\n",
       "</style>\n",
       "<table border=\"1\" class=\"dataframe\">\n",
       "  <thead>\n",
       "    <tr style=\"text-align: right;\">\n",
       "      <th></th>\n",
       "      <th>Temperature</th>\n",
       "      <th>RH</th>\n",
       "      <th>Ws</th>\n",
       "      <th>Rain</th>\n",
       "      <th>FFMC</th>\n",
       "      <th>DMC</th>\n",
       "      <th>DC</th>\n",
       "      <th>ISI</th>\n",
       "      <th>BUI</th>\n",
       "      <th>FWI</th>\n",
       "      <th>Classes</th>\n",
       "      <th>Region</th>\n",
       "    </tr>\n",
       "  </thead>\n",
       "  <tbody>\n",
       "    <tr>\n",
       "      <th>0</th>\n",
       "      <td>29</td>\n",
       "      <td>57</td>\n",
       "      <td>18</td>\n",
       "      <td>0.0</td>\n",
       "      <td>65.7</td>\n",
       "      <td>3.4</td>\n",
       "      <td>7.6</td>\n",
       "      <td>1.3</td>\n",
       "      <td>3.4</td>\n",
       "      <td>0.5</td>\n",
       "      <td>0</td>\n",
       "      <td>0</td>\n",
       "    </tr>\n",
       "    <tr>\n",
       "      <th>1</th>\n",
       "      <td>29</td>\n",
       "      <td>61</td>\n",
       "      <td>13</td>\n",
       "      <td>1.3</td>\n",
       "      <td>64.4</td>\n",
       "      <td>4.1</td>\n",
       "      <td>7.6</td>\n",
       "      <td>1.0</td>\n",
       "      <td>3.9</td>\n",
       "      <td>0.4</td>\n",
       "      <td>0</td>\n",
       "      <td>0</td>\n",
       "    </tr>\n",
       "    <tr>\n",
       "      <th>2</th>\n",
       "      <td>26</td>\n",
       "      <td>82</td>\n",
       "      <td>22</td>\n",
       "      <td>13.1</td>\n",
       "      <td>47.1</td>\n",
       "      <td>2.5</td>\n",
       "      <td>7.1</td>\n",
       "      <td>0.3</td>\n",
       "      <td>2.7</td>\n",
       "      <td>0.1</td>\n",
       "      <td>0</td>\n",
       "      <td>0</td>\n",
       "    </tr>\n",
       "    <tr>\n",
       "      <th>3</th>\n",
       "      <td>25</td>\n",
       "      <td>89</td>\n",
       "      <td>13</td>\n",
       "      <td>2.5</td>\n",
       "      <td>28.6</td>\n",
       "      <td>1.3</td>\n",
       "      <td>6.9</td>\n",
       "      <td>0.0</td>\n",
       "      <td>1.7</td>\n",
       "      <td>0.0</td>\n",
       "      <td>0</td>\n",
       "      <td>0</td>\n",
       "    </tr>\n",
       "    <tr>\n",
       "      <th>4</th>\n",
       "      <td>27</td>\n",
       "      <td>77</td>\n",
       "      <td>16</td>\n",
       "      <td>0.0</td>\n",
       "      <td>64.8</td>\n",
       "      <td>3.0</td>\n",
       "      <td>14.2</td>\n",
       "      <td>1.2</td>\n",
       "      <td>3.9</td>\n",
       "      <td>0.5</td>\n",
       "      <td>0</td>\n",
       "      <td>0</td>\n",
       "    </tr>\n",
       "  </tbody>\n",
       "</table>\n",
       "</div>"
      ],
      "text/plain": [
       "   Temperature  RH  Ws  Rain  FFMC  DMC    DC  ISI  BUI  FWI  Classes  Region\n",
       "0           29  57  18   0.0  65.7  3.4   7.6  1.3  3.4  0.5        0       0\n",
       "1           29  61  13   1.3  64.4  4.1   7.6  1.0  3.9  0.4        0       0\n",
       "2           26  82  22  13.1  47.1  2.5   7.1  0.3  2.7  0.1        0       0\n",
       "3           25  89  13   2.5  28.6  1.3   6.9  0.0  1.7  0.0        0       0\n",
       "4           27  77  16   0.0  64.8  3.0  14.2  1.2  3.9  0.5        0       0"
      ]
     },
     "execution_count": 37,
     "metadata": {},
     "output_type": "execute_result"
    }
   ],
   "source": [
    "data.head()"
   ]
  },
  {
   "cell_type": "markdown",
   "id": "ca2ef6c8",
   "metadata": {},
   "source": [
    "## Fire Weather Index (FWI) Index: 0 to 31.1 is target variable"
   ]
  },
  {
   "cell_type": "code",
   "execution_count": 38,
   "id": "6992efcf",
   "metadata": {},
   "outputs": [],
   "source": [
    "# dividing intodependent and independent features\n",
    "X = data.drop('FWI',axis=1)\n",
    "y = data['FWI']\n"
   ]
  },
  {
   "cell_type": "code",
   "execution_count": 39,
   "id": "ed489870",
   "metadata": {},
   "outputs": [],
   "source": [
    "# Train_test_split\n",
    "X_train, X_test, y_train, y_test = train_test_split(\n",
    "     X, y, test_size=0.25, random_state=42)"
   ]
  },
  {
   "cell_type": "code",
   "execution_count": 40,
   "id": "2b141aca",
   "metadata": {},
   "outputs": [
    {
     "data": {
      "text/plain": [
       "((182, 11), (182,), (61, 11), (61,))"
      ]
     },
     "execution_count": 40,
     "metadata": {},
     "output_type": "execute_result"
    }
   ],
   "source": [
    "X_train.shape,y_train.shape,X_test.shape,y_test.shape"
   ]
  },
  {
   "cell_type": "markdown",
   "id": "d3aa65b5",
   "metadata": {},
   "source": [
    "## Feature selection based on  Corrrelation"
   ]
  },
  {
   "cell_type": "code",
   "execution_count": 41,
   "id": "bc23e5bf",
   "metadata": {},
   "outputs": [
    {
     "data": {
      "text/html": [
       "<div>\n",
       "<style scoped>\n",
       "    .dataframe tbody tr th:only-of-type {\n",
       "        vertical-align: middle;\n",
       "    }\n",
       "\n",
       "    .dataframe tbody tr th {\n",
       "        vertical-align: top;\n",
       "    }\n",
       "\n",
       "    .dataframe thead th {\n",
       "        text-align: right;\n",
       "    }\n",
       "</style>\n",
       "<table border=\"1\" class=\"dataframe\">\n",
       "  <thead>\n",
       "    <tr style=\"text-align: right;\">\n",
       "      <th></th>\n",
       "      <th>Temperature</th>\n",
       "      <th>RH</th>\n",
       "      <th>Ws</th>\n",
       "      <th>Rain</th>\n",
       "      <th>FFMC</th>\n",
       "      <th>DMC</th>\n",
       "      <th>DC</th>\n",
       "      <th>ISI</th>\n",
       "      <th>BUI</th>\n",
       "      <th>Classes</th>\n",
       "      <th>Region</th>\n",
       "    </tr>\n",
       "  </thead>\n",
       "  <tbody>\n",
       "    <tr>\n",
       "      <th>Temperature</th>\n",
       "      <td>1.000000</td>\n",
       "      <td>-0.656095</td>\n",
       "      <td>-0.305977</td>\n",
       "      <td>-0.317512</td>\n",
       "      <td>0.694768</td>\n",
       "      <td>0.498173</td>\n",
       "      <td>0.390684</td>\n",
       "      <td>0.629848</td>\n",
       "      <td>0.473609</td>\n",
       "      <td>0.542141</td>\n",
       "      <td>0.254549</td>\n",
       "    </tr>\n",
       "    <tr>\n",
       "      <th>RH</th>\n",
       "      <td>-0.656095</td>\n",
       "      <td>1.000000</td>\n",
       "      <td>0.225736</td>\n",
       "      <td>0.241656</td>\n",
       "      <td>-0.653023</td>\n",
       "      <td>-0.414601</td>\n",
       "      <td>-0.236078</td>\n",
       "      <td>-0.717804</td>\n",
       "      <td>-0.362317</td>\n",
       "      <td>-0.456876</td>\n",
       "      <td>-0.394665</td>\n",
       "    </tr>\n",
       "    <tr>\n",
       "      <th>Ws</th>\n",
       "      <td>-0.305977</td>\n",
       "      <td>0.225736</td>\n",
       "      <td>1.000000</td>\n",
       "      <td>0.251932</td>\n",
       "      <td>-0.190076</td>\n",
       "      <td>0.000379</td>\n",
       "      <td>0.096576</td>\n",
       "      <td>-0.023558</td>\n",
       "      <td>0.035633</td>\n",
       "      <td>-0.082570</td>\n",
       "      <td>-0.199969</td>\n",
       "    </tr>\n",
       "    <tr>\n",
       "      <th>Rain</th>\n",
       "      <td>-0.317512</td>\n",
       "      <td>0.241656</td>\n",
       "      <td>0.251932</td>\n",
       "      <td>1.000000</td>\n",
       "      <td>-0.545491</td>\n",
       "      <td>-0.289754</td>\n",
       "      <td>-0.302341</td>\n",
       "      <td>-0.345707</td>\n",
       "      <td>-0.300964</td>\n",
       "      <td>-0.369357</td>\n",
       "      <td>-0.059022</td>\n",
       "    </tr>\n",
       "    <tr>\n",
       "      <th>FFMC</th>\n",
       "      <td>0.694768</td>\n",
       "      <td>-0.653023</td>\n",
       "      <td>-0.190076</td>\n",
       "      <td>-0.545491</td>\n",
       "      <td>1.000000</td>\n",
       "      <td>0.620807</td>\n",
       "      <td>0.524101</td>\n",
       "      <td>0.750799</td>\n",
       "      <td>0.607210</td>\n",
       "      <td>0.781259</td>\n",
       "      <td>0.249514</td>\n",
       "    </tr>\n",
       "    <tr>\n",
       "      <th>DMC</th>\n",
       "      <td>0.498173</td>\n",
       "      <td>-0.414601</td>\n",
       "      <td>0.000379</td>\n",
       "      <td>-0.289754</td>\n",
       "      <td>0.620807</td>\n",
       "      <td>1.000000</td>\n",
       "      <td>0.868647</td>\n",
       "      <td>0.685656</td>\n",
       "      <td>0.983175</td>\n",
       "      <td>0.617273</td>\n",
       "      <td>0.212582</td>\n",
       "    </tr>\n",
       "    <tr>\n",
       "      <th>DC</th>\n",
       "      <td>0.390684</td>\n",
       "      <td>-0.236078</td>\n",
       "      <td>0.096576</td>\n",
       "      <td>-0.302341</td>\n",
       "      <td>0.524101</td>\n",
       "      <td>0.868647</td>\n",
       "      <td>1.000000</td>\n",
       "      <td>0.513701</td>\n",
       "      <td>0.942414</td>\n",
       "      <td>0.543581</td>\n",
       "      <td>-0.060838</td>\n",
       "    </tr>\n",
       "    <tr>\n",
       "      <th>ISI</th>\n",
       "      <td>0.629848</td>\n",
       "      <td>-0.717804</td>\n",
       "      <td>-0.023558</td>\n",
       "      <td>-0.345707</td>\n",
       "      <td>0.750799</td>\n",
       "      <td>0.685656</td>\n",
       "      <td>0.513701</td>\n",
       "      <td>1.000000</td>\n",
       "      <td>0.643818</td>\n",
       "      <td>0.742977</td>\n",
       "      <td>0.296441</td>\n",
       "    </tr>\n",
       "    <tr>\n",
       "      <th>BUI</th>\n",
       "      <td>0.473609</td>\n",
       "      <td>-0.362317</td>\n",
       "      <td>0.035633</td>\n",
       "      <td>-0.300964</td>\n",
       "      <td>0.607210</td>\n",
       "      <td>0.983175</td>\n",
       "      <td>0.942414</td>\n",
       "      <td>0.643818</td>\n",
       "      <td>1.000000</td>\n",
       "      <td>0.612239</td>\n",
       "      <td>0.114897</td>\n",
       "    </tr>\n",
       "    <tr>\n",
       "      <th>Classes</th>\n",
       "      <td>0.542141</td>\n",
       "      <td>-0.456876</td>\n",
       "      <td>-0.082570</td>\n",
       "      <td>-0.369357</td>\n",
       "      <td>0.781259</td>\n",
       "      <td>0.617273</td>\n",
       "      <td>0.543581</td>\n",
       "      <td>0.742977</td>\n",
       "      <td>0.612239</td>\n",
       "      <td>1.000000</td>\n",
       "      <td>0.188837</td>\n",
       "    </tr>\n",
       "    <tr>\n",
       "      <th>Region</th>\n",
       "      <td>0.254549</td>\n",
       "      <td>-0.394665</td>\n",
       "      <td>-0.199969</td>\n",
       "      <td>-0.059022</td>\n",
       "      <td>0.249514</td>\n",
       "      <td>0.212582</td>\n",
       "      <td>-0.060838</td>\n",
       "      <td>0.296441</td>\n",
       "      <td>0.114897</td>\n",
       "      <td>0.188837</td>\n",
       "      <td>1.000000</td>\n",
       "    </tr>\n",
       "  </tbody>\n",
       "</table>\n",
       "</div>"
      ],
      "text/plain": [
       "             Temperature        RH        Ws      Rain      FFMC       DMC  \\\n",
       "Temperature     1.000000 -0.656095 -0.305977 -0.317512  0.694768  0.498173   \n",
       "RH             -0.656095  1.000000  0.225736  0.241656 -0.653023 -0.414601   \n",
       "Ws             -0.305977  0.225736  1.000000  0.251932 -0.190076  0.000379   \n",
       "Rain           -0.317512  0.241656  0.251932  1.000000 -0.545491 -0.289754   \n",
       "FFMC            0.694768 -0.653023 -0.190076 -0.545491  1.000000  0.620807   \n",
       "DMC             0.498173 -0.414601  0.000379 -0.289754  0.620807  1.000000   \n",
       "DC              0.390684 -0.236078  0.096576 -0.302341  0.524101  0.868647   \n",
       "ISI             0.629848 -0.717804 -0.023558 -0.345707  0.750799  0.685656   \n",
       "BUI             0.473609 -0.362317  0.035633 -0.300964  0.607210  0.983175   \n",
       "Classes         0.542141 -0.456876 -0.082570 -0.369357  0.781259  0.617273   \n",
       "Region          0.254549 -0.394665 -0.199969 -0.059022  0.249514  0.212582   \n",
       "\n",
       "                   DC       ISI       BUI   Classes    Region  \n",
       "Temperature  0.390684  0.629848  0.473609  0.542141  0.254549  \n",
       "RH          -0.236078 -0.717804 -0.362317 -0.456876 -0.394665  \n",
       "Ws           0.096576 -0.023558  0.035633 -0.082570 -0.199969  \n",
       "Rain        -0.302341 -0.345707 -0.300964 -0.369357 -0.059022  \n",
       "FFMC         0.524101  0.750799  0.607210  0.781259  0.249514  \n",
       "DMC          0.868647  0.685656  0.983175  0.617273  0.212582  \n",
       "DC           1.000000  0.513701  0.942414  0.543581 -0.060838  \n",
       "ISI          0.513701  1.000000  0.643818  0.742977  0.296441  \n",
       "BUI          0.942414  0.643818  1.000000  0.612239  0.114897  \n",
       "Classes      0.543581  0.742977  0.612239  1.000000  0.188837  \n",
       "Region      -0.060838  0.296441  0.114897  0.188837  1.000000  "
      ]
     },
     "execution_count": 41,
     "metadata": {},
     "output_type": "execute_result"
    }
   ],
   "source": [
    "## Feature Selection based on correlaltion\n",
    "X_train.corr()"
   ]
  },
  {
   "cell_type": "code",
   "execution_count": 42,
   "id": "afdf42c1",
   "metadata": {},
   "outputs": [
    {
     "data": {
      "text/plain": [
       "Text(0.5, 1.0, 'correlation for feature selection')"
      ]
     },
     "execution_count": 42,
     "metadata": {},
     "output_type": "execute_result"
    },
    {
     "data": {
      "image/png": "[encoded data removed]",
      "text/plain": [
       "<Figure size 1008x432 with 2 Axes>"
      ]
     },
     "metadata": {
      "needs_background": "light"
     },
     "output_type": "display_data"
    }
   ],
   "source": [
    "plt.figure(figsize=(14,6))\n",
    "sns.heatmap(X_train.corr(),annot=True,cmap='Blues')\n",
    "plt.title('correlation for feature selection')"
   ]
  },
  {
   "cell_type": "code",
   "execution_count": 43,
   "id": "40203369",
   "metadata": {},
   "outputs": [
    {
     "data": {
      "text/plain": [
       "Text(0.5, 1.0, 'correlation for feature selection')"
      ]
     },
     "execution_count": 43,
     "metadata": {},
     "output_type": "execute_result"
    },
    {
     "data": {
      "image/png": "[encoded data removed]",
      "text/plain": [
       "<Figure size 1008x432 with 2 Axes>"
      ]
     },
     "metadata": {
      "needs_background": "light"
     },
     "output_type": "display_data"
    }
   ],
   "source": [
    "plt.figure(figsize=(14,6))\n",
    "sns.heatmap(X_train.corr(),annot=True)\n",
    "plt.title('correlation for feature selection')"
   ]
  },
  {
   "cell_type": "code",
   "execution_count": 44,
   "id": "b6aa3ab7",
   "metadata": {},
   "outputs": [
    {
     "data": {
      "text/plain": [
       "(182, 11)"
      ]
     },
     "execution_count": 44,
     "metadata": {},
     "output_type": "execute_result"
    }
   ],
   "source": [
    "X_train.shape"
   ]
  },
  {
   "cell_type": "code",
   "execution_count": 45,
   "id": "ef585053",
   "metadata": {},
   "outputs": [],
   "source": [
    "# function for finding correlation \n",
    "\n",
    "# threshold value is given by domain expertise\n",
    "def correlation(dataset,threshold):\n",
    "    col_corr = set()\n",
    "    corr_matrix = dataset.corr()\n",
    "    for i in range(len(corr_matrix.columns)):\n",
    "        for j in range(i):\n",
    "            if abs(corr_matrix.iloc[i,j]) > threshold:\n",
    "                col_name = corr_matrix.columns[i]\n",
    "                col_corr.add(col_name)\n",
    "    return col_corr"
   ]
  },
  {
   "cell_type": "code",
   "execution_count": 46,
   "id": "8a020369",
   "metadata": {},
   "outputs": [
    {
     "data": {
      "text/plain": [
       "{'BUI', 'DC'}"
      ]
     },
     "execution_count": 46,
     "metadata": {},
     "output_type": "execute_result"
    }
   ],
   "source": [
    "correlation(X_train,0.85) \n"
   ]
  },
  {
   "cell_type": "markdown",
   "id": "65f242b8",
   "metadata": {},
   "source": [
    "I am in conclusion that BUI and DC are highly correlated"
   ]
  },
  {
   "cell_type": "code",
   "execution_count": 47,
   "id": "d5c53d24",
   "metadata": {},
   "outputs": [],
   "source": [
    "# removing one feature would be best good option\n",
    "X_train.drop('DC',axis=1,inplace=True)\n",
    "X_test.drop('DC',axis=1,inplace=True)"
   ]
  },
  {
   "cell_type": "code",
   "execution_count": 48,
   "id": "265be21e",
   "metadata": {},
   "outputs": [
    {
     "data": {
      "text/plain": [
       "((182, 10), (61, 10))"
      ]
     },
     "execution_count": 48,
     "metadata": {},
     "output_type": "execute_result"
    }
   ],
   "source": [
    "X_train.shape,X_test.shape"
   ]
  },
  {
   "cell_type": "markdown",
   "id": "07101296",
   "metadata": {},
   "source": [
    "## Standardization"
   ]
  },
  {
   "cell_type": "code",
   "execution_count": 49,
   "id": "443f724b",
   "metadata": {},
   "outputs": [
    {
     "data": {
      "text/plain": [
       "StandardScaler()"
      ]
     },
     "execution_count": 49,
     "metadata": {},
     "output_type": "execute_result"
    }
   ],
   "source": [
    "scaler = StandardScaler()\n",
    "scaler"
   ]
  },
  {
   "cell_type": "code",
   "execution_count": 50,
   "id": "85837619",
   "metadata": {},
   "outputs": [],
   "source": [
    "X_train_scaled = scaler.fit_transform(X_train)\n",
    "X_test_scaled = scaler.transform(X_test)"
   ]
  },
  {
   "cell_type": "code",
   "execution_count": 51,
   "id": "1174bda4",
   "metadata": {},
   "outputs": [
    {
     "data": {
      "text/plain": [
       "(182, 10)"
      ]
     },
     "execution_count": 51,
     "metadata": {},
     "output_type": "execute_result"
    }
   ],
   "source": [
    "X_train_scaled.shape"
   ]
  },
  {
   "cell_type": "code",
   "execution_count": 52,
   "id": "8450f01b",
   "metadata": {},
   "outputs": [
    {
     "data": {
      "text/plain": [
       "(61, 10)"
      ]
     },
     "execution_count": 52,
     "metadata": {},
     "output_type": "execute_result"
    }
   ],
   "source": [
    "X_test_scaled.shape"
   ]
  },
  {
   "cell_type": "code",
   "execution_count": 53,
   "id": "3a2e124b",
   "metadata": {},
   "outputs": [
    {
     "data": {
      "text/plain": [
       "array([[-0.84284248,  0.78307967,  1.29972026, ..., -0.77269802,\n",
       "        -1.10431526, -0.98907071],\n",
       "       [-0.30175842,  0.64950844, -0.59874754, ..., -0.90344718,\n",
       "        -1.10431526,  1.01105006],\n",
       "       [ 2.13311985, -2.08870172, -0.21905398, ...,  0.38339978,\n",
       "         0.90553851,  1.01105006],\n",
       "       ...,\n",
       "       [-1.9250106 ,  0.9166509 ,  0.54033314, ..., -1.03419633,\n",
       "        -1.10431526, -0.98907071],\n",
       "       [ 0.50986767, -0.21870454,  0.16063958, ...,  0.18383528,\n",
       "         0.90553851,  1.01105006],\n",
       "       [-0.57230045,  0.98343651,  2.05910739, ..., -0.99290713,\n",
       "        -1.10431526, -0.98907071]])"
      ]
     },
     "execution_count": 53,
     "metadata": {},
     "output_type": "execute_result"
    }
   ],
   "source": [
    "X_train_scaled"
   ]
  },
  {
   "cell_type": "code",
   "execution_count": 54,
   "id": "5be28bb8",
   "metadata": {},
   "outputs": [
    {
     "data": {
      "text/html": [
       "<div>\n",
       "<style scoped>\n",
       "    .dataframe tbody tr th:only-of-type {\n",
       "        vertical-align: middle;\n",
       "    }\n",
       "\n",
       "    .dataframe tbody tr th {\n",
       "        vertical-align: top;\n",
       "    }\n",
       "\n",
       "    .dataframe thead th {\n",
       "        text-align: right;\n",
       "    }\n",
       "</style>\n",
       "<table border=\"1\" class=\"dataframe\">\n",
       "  <thead>\n",
       "    <tr style=\"text-align: right;\">\n",
       "      <th></th>\n",
       "      <th>Temperature</th>\n",
       "      <th>RH</th>\n",
       "      <th>Ws</th>\n",
       "      <th>Rain</th>\n",
       "      <th>FFMC</th>\n",
       "      <th>DMC</th>\n",
       "      <th>ISI</th>\n",
       "      <th>BUI</th>\n",
       "      <th>Classes</th>\n",
       "      <th>Region</th>\n",
       "    </tr>\n",
       "  </thead>\n",
       "  <tbody>\n",
       "    <tr>\n",
       "      <th>0</th>\n",
       "      <td>-0.842842</td>\n",
       "      <td>0.783080</td>\n",
       "      <td>1.299720</td>\n",
       "      <td>-0.337274</td>\n",
       "      <td>-0.128056</td>\n",
       "      <td>-0.882729</td>\n",
       "      <td>-0.629633</td>\n",
       "      <td>-0.772698</td>\n",
       "      <td>-1.104315</td>\n",
       "      <td>-0.989071</td>\n",
       "    </tr>\n",
       "    <tr>\n",
       "      <th>1</th>\n",
       "      <td>-0.301758</td>\n",
       "      <td>0.649508</td>\n",
       "      <td>-0.598748</td>\n",
       "      <td>-0.290487</td>\n",
       "      <td>-1.217586</td>\n",
       "      <td>-0.866876</td>\n",
       "      <td>-0.930585</td>\n",
       "      <td>-0.903447</td>\n",
       "      <td>-1.104315</td>\n",
       "      <td>1.011050</td>\n",
       "    </tr>\n",
       "    <tr>\n",
       "      <th>2</th>\n",
       "      <td>2.133120</td>\n",
       "      <td>-2.088702</td>\n",
       "      <td>-0.219054</td>\n",
       "      <td>-0.384060</td>\n",
       "      <td>1.157031</td>\n",
       "      <td>0.615402</td>\n",
       "      <td>2.727139</td>\n",
       "      <td>0.383400</td>\n",
       "      <td>0.905539</td>\n",
       "      <td>1.011050</td>\n",
       "    </tr>\n",
       "    <tr>\n",
       "      <th>3</th>\n",
       "      <td>-0.031216</td>\n",
       "      <td>-0.151919</td>\n",
       "      <td>0.920027</td>\n",
       "      <td>-0.243701</td>\n",
       "      <td>-0.037262</td>\n",
       "      <td>-0.272379</td>\n",
       "      <td>-0.606483</td>\n",
       "      <td>-0.187768</td>\n",
       "      <td>-1.104315</td>\n",
       "      <td>-0.989071</td>\n",
       "    </tr>\n",
       "    <tr>\n",
       "      <th>4</th>\n",
       "      <td>-0.031216</td>\n",
       "      <td>-1.020132</td>\n",
       "      <td>-0.598748</td>\n",
       "      <td>-0.056555</td>\n",
       "      <td>-0.009325</td>\n",
       "      <td>-0.605297</td>\n",
       "      <td>-0.699084</td>\n",
       "      <td>-0.690120</td>\n",
       "      <td>-1.104315</td>\n",
       "      <td>-0.989071</td>\n",
       "    </tr>\n",
       "    <tr>\n",
       "      <th>...</th>\n",
       "      <td>...</td>\n",
       "      <td>...</td>\n",
       "      <td>...</td>\n",
       "      <td>...</td>\n",
       "      <td>...</td>\n",
       "      <td>...</td>\n",
       "      <td>...</td>\n",
       "      <td>...</td>\n",
       "      <td>...</td>\n",
       "      <td>...</td>\n",
       "    </tr>\n",
       "    <tr>\n",
       "      <th>177</th>\n",
       "      <td>-2.195553</td>\n",
       "      <td>1.317365</td>\n",
       "      <td>-0.219054</td>\n",
       "      <td>-0.196914</td>\n",
       "      <td>-2.286163</td>\n",
       "      <td>-1.096748</td>\n",
       "      <td>-1.069486</td>\n",
       "      <td>-1.061722</td>\n",
       "      <td>-1.104315</td>\n",
       "      <td>-0.989071</td>\n",
       "    </tr>\n",
       "    <tr>\n",
       "      <th>178</th>\n",
       "      <td>-1.113385</td>\n",
       "      <td>1.183793</td>\n",
       "      <td>0.540333</td>\n",
       "      <td>1.066320</td>\n",
       "      <td>-1.971876</td>\n",
       "      <td>-0.930289</td>\n",
       "      <td>-1.023186</td>\n",
       "      <td>-0.951618</td>\n",
       "      <td>-1.104315</td>\n",
       "      <td>-0.989071</td>\n",
       "    </tr>\n",
       "    <tr>\n",
       "      <th>179</th>\n",
       "      <td>-1.925011</td>\n",
       "      <td>0.916651</td>\n",
       "      <td>0.540333</td>\n",
       "      <td>2.984564</td>\n",
       "      <td>-2.209337</td>\n",
       "      <td>-1.065041</td>\n",
       "      <td>-1.069486</td>\n",
       "      <td>-1.034196</td>\n",
       "      <td>-1.104315</td>\n",
       "      <td>-0.989071</td>\n",
       "    </tr>\n",
       "    <tr>\n",
       "      <th>180</th>\n",
       "      <td>0.509868</td>\n",
       "      <td>-0.218705</td>\n",
       "      <td>0.160640</td>\n",
       "      <td>-0.384060</td>\n",
       "      <td>0.730997</td>\n",
       "      <td>0.377603</td>\n",
       "      <td>0.597325</td>\n",
       "      <td>0.183835</td>\n",
       "      <td>0.905539</td>\n",
       "      <td>1.011050</td>\n",
       "    </tr>\n",
       "    <tr>\n",
       "      <th>181</th>\n",
       "      <td>-0.572300</td>\n",
       "      <td>0.983437</td>\n",
       "      <td>2.059107</td>\n",
       "      <td>0.458096</td>\n",
       "      <td>-1.336317</td>\n",
       "      <td>-1.017481</td>\n",
       "      <td>-0.861135</td>\n",
       "      <td>-0.992907</td>\n",
       "      <td>-1.104315</td>\n",
       "      <td>-0.989071</td>\n",
       "    </tr>\n",
       "  </tbody>\n",
       "</table>\n",
       "<p>182 rows × 10 columns</p>\n",
       "</div>"
      ],
      "text/plain": [
       "     Temperature        RH        Ws      Rain      FFMC       DMC       ISI  \\\n",
       "0      -0.842842  0.783080  1.299720 -0.337274 -0.128056 -0.882729 -0.629633   \n",
       "1      -0.301758  0.649508 -0.598748 -0.290487 -1.217586 -0.866876 -0.930585   \n",
       "2       2.133120 -2.088702 -0.219054 -0.384060  1.157031  0.615402  2.727139   \n",
       "3      -0.031216 -0.151919  0.920027 -0.243701 -0.037262 -0.272379 -0.606483   \n",
       "4      -0.031216 -1.020132 -0.598748 -0.056555 -0.009325 -0.605297 -0.699084   \n",
       "..           ...       ...       ...       ...       ...       ...       ...   \n",
       "177    -2.195553  1.317365 -0.219054 -0.196914 -2.286163 -1.096748 -1.069486   \n",
       "178    -1.113385  1.183793  0.540333  1.066320 -1.971876 -0.930289 -1.023186   \n",
       "179    -1.925011  0.916651  0.540333  2.984564 -2.209337 -1.065041 -1.069486   \n",
       "180     0.509868 -0.218705  0.160640 -0.384060  0.730997  0.377603  0.597325   \n",
       "181    -0.572300  0.983437  2.059107  0.458096 -1.336317 -1.017481 -0.861135   \n",
       "\n",
       "          BUI   Classes    Region  \n",
       "0   -0.772698 -1.104315 -0.989071  \n",
       "1   -0.903447 -1.104315  1.011050  \n",
       "2    0.383400  0.905539  1.011050  \n",
       "3   -0.187768 -1.104315 -0.989071  \n",
       "4   -0.690120 -1.104315 -0.989071  \n",
       "..        ...       ...       ...  \n",
       "177 -1.061722 -1.104315 -0.989071  \n",
       "178 -0.951618 -1.104315 -0.989071  \n",
       "179 -1.034196 -1.104315 -0.989071  \n",
       "180  0.183835  0.905539  1.011050  \n",
       "181 -0.992907 -1.104315 -0.989071  \n",
       "\n",
       "[182 rows x 10 columns]"
      ]
     },
     "execution_count": 54,
     "metadata": {},
     "output_type": "execute_result"
    }
   ],
   "source": [
    "# Converting numpy array imto pandas Dataframe\n",
    "scaled_x_df= pd.DataFrame(X_train_scaled, columns=X_train.columns)\n",
    "scaled_x_df"
   ]
  },
  {
   "cell_type": "markdown",
   "id": "8b20b5d2",
   "metadata": {},
   "source": [
    "## Understanding the effect of Scaling"
   ]
  },
  {
   "cell_type": "code",
   "execution_count": 55,
   "id": "cd94fd55",
   "metadata": {},
   "outputs": [
    {
     "data": {
      "text/plain": [
       "Text(0.5, 1.0, 'After scaling')"
      ]
     },
     "execution_count": 55,
     "metadata": {},
     "output_type": "execute_result"
    },
    {
     "data": {
      "image/png": "[encoded data removed]",
      "text/plain": [
       "<Figure size 1152x360 with 2 Axes>"
      ]
     },
     "metadata": {
      "needs_background": "light"
     },
     "output_type": "display_data"
    }
   ],
   "source": [
    "plt.subplots(1,2,figsize = (16,5))\n",
    "plt.subplot(1,2,1)\n",
    "plt.boxplot(X_train)\n",
    "plt.title('before scaling')\n",
    "plt.subplot(1,2,2)\n",
    "plt.boxplot(scaled_x_df)\n",
    "plt.title('After scaling')"
   ]
  },
  {
   "cell_type": "code",
   "execution_count": 56,
   "id": "a9b27720",
   "metadata": {},
   "outputs": [
    {
     "name": "stderr",
     "output_type": "stream",
     "text": [
      "D:\\jupyter\\lib\\site-packages\\seaborn\\distributions.py:2619: FutureWarning: `distplot` is a deprecated function and will be removed in a future version. Please adapt your code to use either `displot` (a figure-level function with similar flexibility) or `histplot` (an axes-level function for histograms).\n",
      "  warnings.warn(msg, FutureWarning)\n",
      "D:\\jupyter\\lib\\site-packages\\seaborn\\distributions.py:2619: FutureWarning: `distplot` is a deprecated function and will be removed in a future version. Please adapt your code to use either `displot` (a figure-level function with similar flexibility) or `histplot` (an axes-level function for histograms).\n",
      "  warnings.warn(msg, FutureWarning)\n"
     ]
    },
    {
     "data": {
      "text/plain": [
       "Text(0.5, 1.0, 'After scaling')"
      ]
     },
     "execution_count": 56,
     "metadata": {},
     "output_type": "execute_result"
    },
    {
     "data": {
      "image/png": "[encoded data removed]",
      "text/plain": [
       "<Figure size 1152x360 with 2 Axes>"
      ]
     },
     "metadata": {
      "needs_background": "light"
     },
     "output_type": "display_data"
    }
   ],
   "source": [
    "plt.subplots(1,2,figsize = (16,5))\n",
    "plt.subplot(1,2,1)\n",
    "sns.distplot(X_train)\n",
    "plt.title('before scaling')\n",
    "plt.subplot(1,2,2)\n",
    "sns.distplot(scaled_x_df)\n",
    "plt.title('After scaling')\n",
    "# here my values rangs between -2 t0 2"
   ]
  },
  {
   "cell_type": "markdown",
   "id": "a9f88a0d",
   "metadata": {},
   "source": [
    "# Model Building"
   ]
  },
  {
   "cell_type": "markdown",
   "id": "5b60cf95",
   "metadata": {},
   "source": [
    "## Linear Regression Model"
   ]
  },
  {
   "cell_type": "code",
   "execution_count": 57,
   "id": "9f6c7535",
   "metadata": {},
   "outputs": [
    {
     "name": "stdout",
     "output_type": "stream",
     "text": [
      "(61,) (61,)\n"
     ]
    },
    {
     "data": {
      "text/plain": [
       "(array([ 8.30457914,  7.48543259, -0.07124803,  5.1239953 ,  6.58646661,\n",
       "         1.34845765,  2.29146389,  7.46320932,  1.91726023,  3.1720968 ,\n",
       "         0.06104952,  7.8522068 ,  9.50002921, 16.40375946, 19.06240412,\n",
       "         1.26460683,  2.14282766, -0.03921186,  6.7910547 ,  3.16474665,\n",
       "         1.26043867,  0.24044841,  6.44149991,  0.08436122, 20.99410994,\n",
       "         4.87656305,  5.88138004,  9.95537379,  0.18798004,  9.69921185,\n",
       "         6.34859082, -0.13114286, 10.28194824, 15.02613276,  1.30305119,\n",
       "         0.62923538,  1.87653957,  6.12315886, -0.31545055, -0.52966099,\n",
       "         7.0779492 ,  1.61961767,  8.47263835, -0.37422259, 15.24420514,\n",
       "         7.90097258,  7.71318307,  1.01994088, 12.53560642,  0.85369155,\n",
       "        28.74405001,  5.45760121, 17.0982405 , 20.06235185, 14.33230103,\n",
       "        16.55893998,  0.68548131,  8.77001654,  3.68182833, 14.67609754,\n",
       "         5.08865108]),\n",
       " 24      8.4\n",
       " 6       7.2\n",
       " 152     0.5\n",
       " 232     3.8\n",
       " 238     6.5\n",
       "        ... \n",
       " 162     0.8\n",
       " 178     9.0\n",
       " 224     3.9\n",
       " 230    15.4\n",
       " 154     5.2\n",
       " Name: FWI, Length: 61, dtype: float64)"
      ]
     },
     "execution_count": 57,
     "metadata": {},
     "output_type": "execute_result"
    }
   ],
   "source": [
    "# training model\n",
    "linear_regresssion = LinearRegression(n_jobs=-1)\n",
    "linear_regresssion.fit(X=X_train_scaled,y=y_train)\n",
    "# predicting \n",
    "y_pred_test_linear = linear_regresssion.predict(X_test_scaled)\n",
    "print(y_pred_test_linear.shape,y_test.shape)\n",
    "y_pred_test_linear,y_test"
   ]
  },
  {
   "cell_type": "code",
   "execution_count": 58,
   "id": "6788bbe9",
   "metadata": {},
   "outputs": [
    {
     "name": "stdout",
     "output_type": "stream",
     "text": [
      "0.4992999459262424\n",
      "0.4819559932260659\n",
      "0.7066115948144656\n"
     ]
    }
   ],
   "source": [
    "# checking errors\n",
    "mse_linear = mean_squared_error(y_true=y_test,y_pred=y_pred_test_linear)\n",
    "mae_linear = mean_absolute_error(y_true=y_test,y_pred=y_pred_test_linear)\n",
    "rmse_linear = np.sqrt(mse_linear)\n",
    "print(mse_linear)\n",
    "print(mae_linear)\n",
    "print(rmse_linear)"
   ]
  },
  {
   "cell_type": "code",
   "execution_count": 59,
   "id": "96a4c3b4",
   "metadata": {},
   "outputs": [
    {
     "name": "stdout",
     "output_type": "stream",
     "text": [
      "score_r2_linear 0.9887190731606889\n",
      "adjusted_score_r2_linear 0.9864628877928266\n"
     ]
    }
   ],
   "source": [
    "# Checking Accuracy of model\n",
    "score_r2_linear = r2_score(y_true=y_test,y_pred=y_pred_test_linear)\n",
    "adjusted_score_r2_linear = 1-(1-score_r2_linear)*(len(y_test)-1)/(len(y_test)-X_test.shape[1]-1)\n",
    "print('score_r2_linear',score_r2_linear) \n",
    "print('adjusted_score_r2_linear',adjusted_score_r2_linear)"
   ]
  },
  {
   "cell_type": "markdown",
   "id": "fd5d3e75",
   "metadata": {},
   "source": [
    "## Lasso Linear Regression model"
   ]
  },
  {
   "cell_type": "code",
   "execution_count": 60,
   "id": "7c99add0",
   "metadata": {},
   "outputs": [
    {
     "name": "stdout",
     "output_type": "stream",
     "text": [
      "mse_lasso  2.0000529467649155\n",
      "mae_lasso  1.081630596592489\n",
      "rmse_lasso 1.4142322817574613\n",
      "score_r2_lasso  0.9548118297402408\n",
      "adjusted_score_r2_lasso  0.945774195688289\n"
     ]
    }
   ],
   "source": [
    "lasso = Lasso()\n",
    "lasso.fit(X_train_scaled,y_train)\n",
    "y_pred_test_lasso = lasso.predict(X_test_scaled)\n",
    "mae_lasso = mean_absolute_error(y_test,y_pred_test_lasso)\n",
    "mse_lasso = mean_squared_error(y_test,y_pred_test_lasso)\n",
    "rmse_lasso = np.sqrt(mse_lasso)\n",
    "print('mse_lasso ',mse_lasso)\n",
    "print('mae_lasso ',mae_lasso)\n",
    "print('rmse_lasso',rmse_lasso)\n",
    "# Checking Accuracy of model\n",
    "score_r2_lasso = r2_score(y_true=y_test,y_pred=y_pred_test_lasso)\n",
    "adjusted_score_r2_lasso = 1-(1-score_r2_lasso)*(len(y_test)-1)/(len(y_test)-X_test.shape[1]-1)\n",
    "print('score_r2_lasso ',score_r2_lasso)\n",
    "print('adjusted_score_r2_lasso ',adjusted_score_r2_lasso)"
   ]
  },
  {
   "cell_type": "markdown",
   "id": "93805788",
   "metadata": {},
   "source": [
    "## Ridge Linear Regression model"
   ]
  },
  {
   "cell_type": "code",
   "execution_count": 61,
   "id": "93f6f9d6",
   "metadata": {},
   "outputs": [
    {
     "name": "stdout",
     "output_type": "stream",
     "text": [
      "mse_ridge  0.5281948451212556\n",
      "mae_ridge  0.49770729505590666\n",
      "rmse_ridge 0.7267701460030231\n",
      "score_r2_ridge  0.9880662366312486\n",
      "adjusted_score_r2_ridge  0.9856794839574983\n"
     ]
    }
   ],
   "source": [
    "ridge = Ridge()\n",
    "ridge.fit(X_train_scaled,y_train)\n",
    "y_pred_test_ridge = ridge.predict(X_test_scaled)\n",
    "# checking errors\n",
    "mae_ridge = mean_absolute_error(y_test,y_pred_test_ridge)\n",
    "mse_ridge = mean_squared_error(y_test,y_pred_test_ridge)\n",
    "rmse_ridge = np.sqrt(mse_ridge)\n",
    "print('mse_ridge ',mse_ridge)\n",
    "print('mae_ridge ',mae_ridge)\n",
    "print('rmse_ridge',rmse_ridge)\n",
    " # Checking Accuracy of model\n",
    "score_r2_ridge = r2_score(y_true=y_test,y_pred=y_pred_test_ridge)\n",
    "adjusted_score_r2_ridge = 1-(1-score_r2_ridge)*(len(y_test)-1)/(len(y_test)-X_test.shape[1]-1)\n",
    "print('score_r2_ridge ',score_r2_ridge)  \n",
    "print('adjusted_score_r2_ridge ',adjusted_score_r2_ridge)"
   ]
  },
  {
   "cell_type": "markdown",
   "id": "fcc2eb9d",
   "metadata": {},
   "source": [
    "## KNN"
   ]
  },
  {
   "cell_type": "code",
   "execution_count": 62,
   "id": "5ec6d95a",
   "metadata": {},
   "outputs": [
    {
     "name": "stdout",
     "output_type": "stream",
     "text": [
      "mse_KNN  2.2207832422586518\n",
      "mae_KNN  0.9928961748633879\n",
      "rmse_KNN 1.490229258288352\n",
      "score_r2_knn  0.9498247626776455\n",
      "adjusted_score_r2_knn  0.9397897152131746\n"
     ]
    }
   ],
   "source": [
    "knn = KNeighborsRegressor(n_neighbors=3)\n",
    "knn.fit(X_train_scaled,y_train)\n",
    "y_pred_test_knn = knn.predict(X_test_scaled)\n",
    "# checking errors\n",
    "mae_knn = mean_absolute_error(y_test,y_pred_test_knn)\n",
    "mse_knn = mean_squared_error(y_test,y_pred_test_knn)\n",
    "rmse_knn = np.sqrt(mse_knn)\n",
    "print('mse_KNN ',mse_knn)\n",
    "print('mae_KNN ',mae_knn)\n",
    "print('rmse_KNN',rmse_knn)\n",
    "score_r2_knn = r2_score(y_true=y_test,y_pred=y_pred_test_knn)\n",
    "adjusted_score_r2_knn = 1-(1-score_r2_knn)*(len(y_test)-1)/(len(y_test)-X_test.shape[1]-1)\n",
    "print('score_r2_knn ',score_r2_knn)  \n",
    "print('adjusted_score_r2_knn ',adjusted_score_r2_knn)"
   ]
  },
  {
   "cell_type": "markdown",
   "id": "919f45ce",
   "metadata": {},
   "source": [
    "## Decision Tree"
   ]
  },
  {
   "cell_type": "code",
   "execution_count": 63,
   "id": "e5e395b4",
   "metadata": {},
   "outputs": [
    {
     "name": "stdout",
     "output_type": "stream",
     "text": [
      "mse_DecisionTree  2.6564205849689597\n",
      "mae_DecisionTree  0.9682181889149104\n",
      "rmse_DecisionTree 1.629852933540005\n",
      "score_r2_DecisionTree  0.9399821960367253\n",
      "adjusted_score_r2_DecisionTree  0.9279786352440703\n"
     ]
    }
   ],
   "source": [
    "step1 = DecisionTreeRegressor(max_depth=8)\n",
    "step1.fit(X_train_scaled,y_train)\n",
    "y_pred_test_step1 = step1.predict(X_test_scaled)\n",
    "# checking errors\n",
    "mae_step1 = mean_absolute_error(y_test,y_pred_test_step1)\n",
    "mse_step1 = mean_squared_error(y_test,y_pred_test_step1)\n",
    "rmse_step1 = np.sqrt(mse_step1)\n",
    "print('mse_DecisionTree ',mse_step1)\n",
    "print('mae_DecisionTree ',mae_step1)\n",
    "print('rmse_DecisionTree',rmse_step1)\n",
    "score_r2_step1 = r2_score(y_true=y_test,y_pred=y_pred_test_step1)\n",
    "adjusted_score_r2_step1 = 1-(1-score_r2_step1)*(len(y_test)-1)/(len(y_test)-X_test.shape[1]-1)\n",
    "print('score_r2_DecisionTree ',score_r2_step1)  \n",
    "print('adjusted_score_r2_DecisionTree ',adjusted_score_r2_step1)"
   ]
  },
  {
   "cell_type": "markdown",
   "id": "7a780e58",
   "metadata": {},
   "source": [
    "## SVR"
   ]
  },
  {
   "cell_type": "code",
   "execution_count": 64,
   "id": "84f12dc5",
   "metadata": {},
   "outputs": [
    {
     "name": "stdout",
     "output_type": "stream",
     "text": [
      "mse_SVR  0.9358399460545143\n",
      "mae_SVR  0.45338818085298177\n",
      "rmse_SVR 0.9673882085566861\n",
      "score_r2_SVR  0.978856112341127\n",
      "adjusted_score_r2_SVR  0.9746273348093524\n"
     ]
    }
   ],
   "source": [
    "step1 = SVR(kernel='rbf',C=10000,epsilon=0.1)\n",
    "step1.fit(X_train_scaled,y_train)\n",
    "y_pred_test_step1 = step1.predict(X_test_scaled)\n",
    "# checking errors\n",
    "mae_step1 = mean_absolute_error(y_test,y_pred_test_step1)\n",
    "mse_step1 = mean_squared_error(y_test,y_pred_test_step1)\n",
    "rmse_step1 = np.sqrt(mse_step1)\n",
    "print('mse_SVR ',mse_step1)\n",
    "print('mae_SVR ',mae_step1)\n",
    "print('rmse_SVR',rmse_step1)\n",
    "score_r2_step1 = r2_score(y_true=y_test,y_pred=y_pred_test_step1)\n",
    "adjusted_score_r2_step1 = 1-(1-score_r2_step1)*(len(y_test)-1)/(len(y_test)-X_test.shape[1]-1)\n",
    "print('score_r2_SVR ',score_r2_step1)  \n",
    "print('adjusted_score_r2_SVR ',adjusted_score_r2_step1)"
   ]
  },
  {
   "cell_type": "markdown",
   "id": "c32b5fe7",
   "metadata": {},
   "source": [
    "## Random Forest"
   ]
  },
  {
   "cell_type": "code",
   "execution_count": 65,
   "id": "2dabcd1e",
   "metadata": {},
   "outputs": [
    {
     "name": "stdout",
     "output_type": "stream",
     "text": [
      "mse_RandomForest  0.8477425081967204\n",
      "mae_RandomForest  0.636147540983606\n",
      "rmse_RandomForest 0.9207293349278713\n",
      "score_r2_RandomForest  0.9808465406584401\n",
      "adjusted_score_r2_RandomForest  0.9770158487901281\n"
     ]
    }
   ],
   "source": [
    "step1 = RandomForestRegressor(n_estimators=100,\n",
    "                             random_state=3,\n",
    "                             max_samples=0.75,\n",
    "                             max_features=0.75,\n",
    "                             max_depth=15)\n",
    "step1.fit(X_train_scaled,y_train)\n",
    "y_pred_test_step1 = step1.predict(X_test_scaled)\n",
    "# checking errors\n",
    "mae_step1 = mean_absolute_error(y_test,y_pred_test_step1)\n",
    "mse_step1 = mean_squared_error(y_test,y_pred_test_step1)\n",
    "rmse_step1 = np.sqrt(mse_step1)\n",
    "print('mse_RandomForest ',mse_step1)\n",
    "print('mae_RandomForest ',mae_step1)\n",
    "print('rmse_RandomForest',rmse_step1)\n",
    "score_r2_step1 = r2_score(y_true=y_test,y_pred=y_pred_test_step1)\n",
    "adjusted_score_r2_step1 = 1-(1-score_r2_step1)*(len(y_test)-1)/(len(y_test)-X_test.shape[1]-1)\n",
    "print('score_r2_RandomForest ',score_r2_step1)  \n",
    "print('adjusted_score_r2_RandomForest ',adjusted_score_r2_step1)"
   ]
  },
  {
   "cell_type": "markdown",
   "id": "9cfaedca",
   "metadata": {},
   "source": [
    "## ExtraTree Regressor"
   ]
  },
  {
   "cell_type": "code",
   "execution_count": 66,
   "id": "90f18e1b",
   "metadata": {},
   "outputs": [
    {
     "name": "stdout",
     "output_type": "stream",
     "text": [
      "mse_ExtraTrees  0.5908163770491806\n",
      "mae_ExtraTrees  0.5099508196721314\n",
      "rmse_ExtraTrees 0.7686458072800375\n",
      "score_r2_ExtraTrees  0.9866513978634734\n",
      "adjusted_score_r2_ExtraTrees  0.9839816774361682\n"
     ]
    }
   ],
   "source": [
    "step1 = ExtraTreesRegressor(n_estimators=100,\n",
    "                             random_state=3,\n",
    "                             max_samples=0.5,\n",
    "                             max_features=0.75,\n",
    "                             max_depth=15,\n",
    "                           bootstrap=True)\n",
    "step1.fit(X_train_scaled,y_train)\n",
    "y_pred_test_step1 = step1.predict(X_test_scaled)\n",
    "# checking errors\n",
    "mae_step1 = mean_absolute_error(y_test,y_pred_test_step1)\n",
    "mse_step1 = mean_squared_error(y_test,y_pred_test_step1)\n",
    "rmse_step1 = np.sqrt(mse_step1)\n",
    "print('mse_ExtraTrees ',mse_step1)\n",
    "print('mae_ExtraTrees ',mae_step1)\n",
    "print('rmse_ExtraTrees',rmse_step1)\n",
    "score_r2_step1 = r2_score(y_true=y_test,y_pred=y_pred_test_step1)\n",
    "adjusted_score_r2_step1 = 1-(1-score_r2_step1)*(len(y_test)-1)/(len(y_test)-X_test.shape[1]-1)\n",
    "print('score_r2_ExtraTrees ',score_r2_step1)  \n",
    "print('adjusted_score_r2_ExtraTrees ',adjusted_score_r2_step1)"
   ]
  },
  {
   "cell_type": "markdown",
   "id": "0a8c8209",
   "metadata": {},
   "source": [
    "## AdaBoost Regressor"
   ]
  },
  {
   "cell_type": "code",
   "execution_count": 67,
   "id": "9d168620",
   "metadata": {},
   "outputs": [
    {
     "name": "stdout",
     "output_type": "stream",
     "text": [
      "mse_AdaBoost  2.074731712231189\n",
      "mae_AdaBoost  1.2431529835812207\n",
      "rmse_AdaBoost 1.4403929020344377\n",
      "score_r2_AdaBoost  0.9531245760232144\n",
      "adjusted_score_r2_AdaBoost  0.9437494912278573\n"
     ]
    }
   ],
   "source": [
    "step1 = AdaBoostRegressor(n_estimators=100,learning_rate=1.0)\n",
    "step1.fit(X_train_scaled,y_train)\n",
    "y_pred_test_step1 = step1.predict(X_test_scaled)\n",
    "# checking errors\n",
    "mae_step1 = mean_absolute_error(y_test,y_pred_test_step1)\n",
    "mse_step1 = mean_squared_error(y_test,y_pred_test_step1)\n",
    "rmse_step1 = np.sqrt(mse_step1)\n",
    "print('mse_AdaBoost ',mse_step1)\n",
    "print('mae_AdaBoost ',mae_step1)\n",
    "print('rmse_AdaBoost',rmse_step1)\n",
    "score_r2_step1 = r2_score(y_true=y_test,y_pred=y_pred_test_step1)\n",
    "adjusted_score_r2_step1 = 1-(1-score_r2_step1)*(len(y_test)-1)/(len(y_test)-X_test.shape[1]-1)\n",
    "print('score_r2_AdaBoost ',score_r2_step1)  \n",
    "print('adjusted_score_r2_AdaBoost ',adjusted_score_r2_step1)"
   ]
  },
  {
   "cell_type": "markdown",
   "id": "0493c0e3",
   "metadata": {},
   "source": [
    "## Gradient Boosting Regressor"
   ]
  },
  {
   "cell_type": "code",
   "execution_count": 68,
   "id": "9143e505",
   "metadata": {},
   "outputs": [
    {
     "name": "stdout",
     "output_type": "stream",
     "text": [
      "mse_GradientBoosting  0.9759052177929866\n",
      "mae_GradientBoosting  0.6387265307207771\n",
      "rmse_GradientBoosting 0.9878791514112374\n",
      "score_r2_GradientBoosting  0.9779508981447979\n",
      "adjusted_score_r2_GradientBoosting  0.9735410777737574\n"
     ]
    }
   ],
   "source": [
    "step1 = GradientBoostingRegressor(n_estimators=500)\n",
    "step1.fit(X_train_scaled,y_train)\n",
    "y_pred_test_step1 = step1.predict(X_test_scaled)\n",
    "# checking errors\n",
    "mae_step1 = mean_absolute_error(y_test,y_pred_test_step1)\n",
    "mse_step1 = mean_squared_error(y_test,y_pred_test_step1)\n",
    "rmse_step1 = np.sqrt(mse_step1)\n",
    "print('mse_GradientBoosting ',mse_step1)\n",
    "print('mae_GradientBoosting ',mae_step1)\n",
    "print('rmse_GradientBoosting',rmse_step1)\n",
    "score_r2_step1 = r2_score(y_true=y_test,y_pred=y_pred_test_step1)\n",
    "adjusted_score_r2_step1 = 1-(1-score_r2_step1)*(len(y_test)-1)/(len(y_test)-X_test.shape[1]-1)\n",
    "print('score_r2_GradientBoosting ',score_r2_step1)  \n",
    "print('adjusted_score_r2_GradientBoosting ',adjusted_score_r2_step1)"
   ]
  },
  {
   "cell_type": "markdown",
   "id": "67c32aa6",
   "metadata": {},
   "source": [
    "## XGBRegressor"
   ]
  },
  {
   "cell_type": "code",
   "execution_count": 69,
   "id": "f448cf18",
   "metadata": {},
   "outputs": [
    {
     "name": "stdout",
     "output_type": "stream",
     "text": [
      "mse_XGB  1.1823175090261504\n",
      "mae_XGB  0.7384440441188387\n",
      "rmse_XGB 1.0873442458697937\n",
      "score_r2_XGB  0.9732873247253849\n",
      "adjusted_score_r2_XGB  0.9679447896704619\n"
     ]
    }
   ],
   "source": [
    "step1 = XGBRegressor(n_estimators=45,max_depth=5,learning_rate=0.5)\n",
    "step1.fit(X_train_scaled,y_train)\n",
    "y_pred_test_step1 = step1.predict(X_test_scaled)\n",
    "# checking errors\n",
    "mae_step1 = mean_absolute_error(y_test,y_pred_test_step1)\n",
    "mse_step1 = mean_squared_error(y_test,y_pred_test_step1)\n",
    "rmse_step1 = np.sqrt(mse_step1)\n",
    "print('mse_XGB ',mse_step1)\n",
    "print('mae_XGB ',mae_step1)\n",
    "print('rmse_XGB',rmse_step1)\n",
    "score_r2_step1 = r2_score(y_true=y_test,y_pred=y_pred_test_step1)\n",
    "adjusted_score_r2_step1 = 1-(1-score_r2_step1)*(len(y_test)-1)/(len(y_test)-X_test.shape[1]-1)\n",
    "print('score_r2_XGB ',score_r2_step1)  \n",
    "print('adjusted_score_r2_XGB ',adjusted_score_r2_step1)"
   ]
  },
  {
   "cell_type": "markdown",
   "id": "7eec19a8",
   "metadata": {},
   "source": [
    "The best performing model is **Gradient Boosting Regressor** with an RMSE of 0.98, R2Score of 0.97 and Adjusted R2 Score of 0.97. However, the **Linear Regressor** and **Ridge Linear Regressor models** also perform well with an RMSE of 0.70 and 0.72 respectively. The Lasso Linear Regressor model performs the worst with an RMSE of 1.41."
   ]
  },
  {
   "cell_type": "code",
   "execution_count": null,
   "id": "fa957ab9",
   "metadata": {},
   "outputs": [],
   "source": []
  }
 ],
 "metadata": {
  "kernelspec": {
   "display_name": "Python 3 (ipykernel)",
   "language": "python",
   "name": "python3"
  },
  "language_info": {
   "codemirror_mode": {
    "name": "ipython",
    "version": 3
   },
   "file_extension": ".py",
   "mimetype": "text/x-python",
   "name": "python",
   "nbconvert_exporter": "python",
   "pygments_lexer": "ipython3",
   "version": "3.9.12"
  }
 },
 "nbformat": 4,
 "nbformat_minor": 5
}
